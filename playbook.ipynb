{
 "cells": [
  {
   "cell_type": "code",
   "execution_count": 86,
   "metadata": {},
   "outputs": [],
   "source": [
    "from langchain.text_splitter import CharacterTextSplitter\n",
    "from langchain.vectorstores import Chroma\n",
    "from langchain.embeddings import OpenAIEmbeddings\n",
    "from langchain.embeddings import HuggingFaceEmbeddings"
   ]
  },
  {
   "cell_type": "code",
   "execution_count": 2,
   "metadata": {},
   "outputs": [],
   "source": [
    "import os\n",
    "from dotenv import load_dotenv\n",
    "load_dotenv()\n",
    "OPENAI_API_KEY = os.getenv(\"OPENAI_KEY\")\n",
    "os.environ[\"OPENAI_API_KEY\"] = OPENAI_API_KEY"
   ]
  },
  {
   "cell_type": "code",
   "execution_count": null,
   "metadata": {},
   "outputs": [],
   "source": [
    "\n",
    "def create_bedrock_llm(model_version_id):\n",
    "    bedrock_client = boto3.client('bedrock-runtime', region_name='eu-central-1')\n",
    "    bedrock_llm = Bedrock(\n",
    "        model_id=model_version_id, \n",
    "        client=bedrock_client,\n",
    "        model_kwargs={'temperature': 0}\n",
    "        )\n",
    "    return bedrock_llm"
   ]
  },
  {
   "cell_type": "markdown",
   "metadata": {},
   "source": [
    "# First"
   ]
  },
  {
   "cell_type": "code",
   "execution_count": 16,
   "metadata": {},
   "outputs": [],
   "source": [
    "# text_splitter = CharacterTextSplitter(chunk_size=100, chunk_overlap=20)\n",
    "# documents = text_splitter.split_documents(docs)\n",
    "\n",
    "vectordb = Chroma.from_documents(\n",
    "  docs,\n",
    "  embedding=OpenAIEmbeddings(),\n",
    "  persist_directory='../data/db_chroma'\n",
    ")\n",
    "vectordb.persist()"
   ]
  },
  {
   "cell_type": "code",
   "execution_count": 92,
   "metadata": {},
   "outputs": [
    {
     "ename": "NameError",
     "evalue": "name 'ChatOpenAI' is not defined",
     "output_type": "error",
     "traceback": [
      "\u001b[0;31m---------------------------------------------------------------------------\u001b[0m",
      "\u001b[0;31mNameError\u001b[0m                                 Traceback (most recent call last)",
      "\u001b[1;32m/Users/hamit.kavas/DevelopOS/NewOrganizedDirectoryMega/3-DoctorateUPF/3-DemoPaper/src/playbook.ipynb Cell 4\u001b[0m line \u001b[0;36m2\n\u001b[1;32m      <a href='vscode-notebook-cell:/Users/hamit.kavas/DevelopOS/NewOrganizedDirectoryMega/3-DoctorateUPF/3-DemoPaper/src/playbook.ipynb#W4sZmlsZQ%3D%3D?line=0'>1</a>\u001b[0m qa_chain \u001b[39m=\u001b[39m RetrievalQA\u001b[39m.\u001b[39mfrom_chain_type(\n\u001b[0;32m----> <a href='vscode-notebook-cell:/Users/hamit.kavas/DevelopOS/NewOrganizedDirectoryMega/3-DoctorateUPF/3-DemoPaper/src/playbook.ipynb#W4sZmlsZQ%3D%3D?line=1'>2</a>\u001b[0m     llm\u001b[39m=\u001b[39mChatOpenAI(),\n\u001b[1;32m      <a href='vscode-notebook-cell:/Users/hamit.kavas/DevelopOS/NewOrganizedDirectoryMega/3-DoctorateUPF/3-DemoPaper/src/playbook.ipynb#W4sZmlsZQ%3D%3D?line=2'>3</a>\u001b[0m     retriever\u001b[39m=\u001b[39mvectordb\u001b[39m.\u001b[39mas_retriever(search_kwargs\u001b[39m=\u001b[39m{\u001b[39m'\u001b[39m\u001b[39mk\u001b[39m\u001b[39m'\u001b[39m: \u001b[39m7\u001b[39m}),\n\u001b[1;32m      <a href='vscode-notebook-cell:/Users/hamit.kavas/DevelopOS/NewOrganizedDirectoryMega/3-DoctorateUPF/3-DemoPaper/src/playbook.ipynb#W4sZmlsZQ%3D%3D?line=3'>4</a>\u001b[0m     return_source_documents\u001b[39m=\u001b[39m\u001b[39mFalse\u001b[39;00m\n\u001b[1;32m      <a href='vscode-notebook-cell:/Users/hamit.kavas/DevelopOS/NewOrganizedDirectoryMega/3-DoctorateUPF/3-DemoPaper/src/playbook.ipynb#W4sZmlsZQ%3D%3D?line=4'>5</a>\u001b[0m )\n\u001b[1;32m      <a href='vscode-notebook-cell:/Users/hamit.kavas/DevelopOS/NewOrganizedDirectoryMega/3-DoctorateUPF/3-DemoPaper/src/playbook.ipynb#W4sZmlsZQ%3D%3D?line=5'>6</a>\u001b[0m \u001b[39m# def pre_analysis():\u001b[39;00m\n\u001b[1;32m      <a href='vscode-notebook-cell:/Users/hamit.kavas/DevelopOS/NewOrganizedDirectoryMega/3-DoctorateUPF/3-DemoPaper/src/playbook.ipynb#W4sZmlsZQ%3D%3D?line=6'>7</a>\u001b[0m \u001b[39m#     qa_chain = RetrievalQA.from_chain_type(\u001b[39;00m\n\u001b[1;32m      <a href='vscode-notebook-cell:/Users/hamit.kavas/DevelopOS/NewOrganizedDirectoryMega/3-DoctorateUPF/3-DemoPaper/src/playbook.ipynb#W4sZmlsZQ%3D%3D?line=7'>8</a>\u001b[0m \u001b[39m#         llm=llm_options[st.session_state.selected_model],\u001b[39;00m\n\u001b[0;32m   (...)\u001b[0m\n\u001b[1;32m     <a href='vscode-notebook-cell:/Users/hamit.kavas/DevelopOS/NewOrganizedDirectoryMega/3-DoctorateUPF/3-DemoPaper/src/playbook.ipynb#W4sZmlsZQ%3D%3D?line=11'>12</a>\u001b[0m \u001b[39m#     response = qa_chain({'query': prompt})\u001b[39;00m\n\u001b[1;32m     <a href='vscode-notebook-cell:/Users/hamit.kavas/DevelopOS/NewOrganizedDirectoryMega/3-DoctorateUPF/3-DemoPaper/src/playbook.ipynb#W4sZmlsZQ%3D%3D?line=12'>13</a>\u001b[0m \u001b[39m#     print(json.loads(response['result']))\u001b[39;00m\n\u001b[1;32m     <a href='vscode-notebook-cell:/Users/hamit.kavas/DevelopOS/NewOrganizedDirectoryMega/3-DoctorateUPF/3-DemoPaper/src/playbook.ipynb#W4sZmlsZQ%3D%3D?line=13'>14</a>\u001b[0m prompt \u001b[39m=\u001b[39m \u001b[39m\"\"\"\u001b[39m\u001b[39m\\\u001b[39;00m\n\u001b[1;32m     <a href='vscode-notebook-cell:/Users/hamit.kavas/DevelopOS/NewOrganizedDirectoryMega/3-DoctorateUPF/3-DemoPaper/src/playbook.ipynb#W4sZmlsZQ%3D%3D?line=14'>15</a>\u001b[0m \u001b[39mExtract relevant information from these experiences. It should return a json containing:\u001b[39m\n\u001b[1;32m     <a href='vscode-notebook-cell:/Users/hamit.kavas/DevelopOS/NewOrganizedDirectoryMega/3-DoctorateUPF/3-DemoPaper/src/playbook.ipynb#W4sZmlsZQ%3D%3D?line=15'>16</a>\u001b[0m \u001b[39m- job title\u001b[39m\n\u001b[0;32m   (...)\u001b[0m\n\u001b[1;32m     <a href='vscode-notebook-cell:/Users/hamit.kavas/DevelopOS/NewOrganizedDirectoryMega/3-DoctorateUPF/3-DemoPaper/src/playbook.ipynb#W4sZmlsZQ%3D%3D?line=21'>22</a>\u001b[0m \u001b[39m- relevant skills\u001b[39m\n\u001b[1;32m     <a href='vscode-notebook-cell:/Users/hamit.kavas/DevelopOS/NewOrganizedDirectoryMega/3-DoctorateUPF/3-DemoPaper/src/playbook.ipynb#W4sZmlsZQ%3D%3D?line=22'>23</a>\u001b[0m \u001b[39m\"\"\"\u001b[39m\n",
      "\u001b[0;31mNameError\u001b[0m: name 'ChatOpenAI' is not defined"
     ]
    }
   ],
   "source": [
    "qa_chain = RetrievalQA.from_chain_type(\n",
    "    llm=ChatOpenAI(),\n",
    "    retriever=vectordb.as_retriever(search_kwargs={'k': 7}),\n",
    "    return_source_documents=False\n",
    ")\n",
    "# def pre_analysis():\n",
    "#     qa_chain = RetrievalQA.from_chain_type(\n",
    "#         llm=llm_options[st.session_state.selected_model],\n",
    "#         retriever=db_pers.as_retriever(search_kwargs={'k': 7}),\n",
    "#         return_source_documents=False\n",
    "#         )\n",
    "#     response = qa_chain({'query': prompt})\n",
    "#     print(json.loads(response['result']))\n",
    "prompt = \"\"\"\\\n",
    "Extract relevant information from these experiences. It should return a json containing:\n",
    "- job title\n",
    "- company\n",
    "- start date\n",
    "- end date\n",
    "- location\n",
    "- company details\n",
    "- relevant skills\n",
    "\"\"\"\n",
    "result = qa_chain({'query': prompt})\n",
    "result"
   ]
  },
  {
   "cell_type": "code",
   "execution_count": 9,
   "metadata": {},
   "outputs": [
    {
     "name": "stderr",
     "output_type": "stream",
     "text": [
      "/Users/hamit.kavas/Library/Caches/pypoetry/virtualenvs/ml-cross-bedrock-user-guide-aldTT5cv-py3.11/lib/python3.11/site-packages/datasets/load.py:2089: FutureWarning: 'use_auth_token' was deprecated in favor of 'token' in version 2.14.0 and will be removed in 3.0.0.\n",
      "You can remove this warning by passing 'token=None' instead.\n",
      "  warnings.warn(\n"
     ]
    }
   ],
   "source": [
    "from langchain.document_loaders import HuggingFaceDatasetLoader\n",
    "dataset_name = \"frtna/FineTunetaxonomy\"\n",
    "page_content_column = \"combined\"\n",
    "loader = HuggingFaceDatasetLoader(dataset_name, page_content_column)\n",
    "data = loader.load()"
   ]
  },
  {
   "cell_type": "code",
   "execution_count": 10,
   "metadata": {},
   "outputs": [
    {
     "data": {
      "text/plain": [
       "3015"
      ]
     },
     "execution_count": 10,
     "metadata": {},
     "output_type": "execute_result"
    }
   ],
   "source": [
    "ESCO_data = data[:3015]\n",
    "len(ESCO_data)"
   ]
  },
  {
   "cell_type": "code",
   "execution_count": null,
   "metadata": {},
   "outputs": [],
   "source": [
    "# from chromadb import Documents, EmbeddingFunction, Embeddings\n",
    "# import cohere\n",
    "# from dotenv import load_dotenv\n",
    "# load_dotenv()\n",
    "# COHERE_API_KEY = os.getenv(\"COHERE_KEY\")\n",
    "# co = cohere.Client(COHERE_API_KEY)\n",
    "# class CohereEmbeddingFunction(EmbeddingFunction):\n",
    "#     def __call__(self, texts: Documents) -> Embeddings:\n",
    "#         # embed the documents somehow\n",
    "#         return co.embed(texts, model=\"embed-multilingual-v3.0\", input_type='search_document').embeddings\n",
    "#     def embed_documents(self, texts: Documents) -> Embeddings:\n",
    "#         # embed the documents somehow\n",
    "#         embeddings =  co.embed(texts, model=\"embed-multilingual-v3.0\", input_type='search_document').embeddings\n",
    "#         return [list(map(float, e)) for e in embeddings]\n",
    "#     def embed_query(self, texts: Documents) -> Embeddings:\n",
    "#         # embed the documents somehow\n",
    "#         embeddings = co.embed([texts], model=\"embed-multilingual-v3.0\", input_type='search_query').embeddings\n",
    "#         return [list(map(float, e)) for e in embeddings][0]\n",
    "\n",
    "\n",
    "# cohere_ef = CohereEmbeddingFunction()\n",
    "\n",
    "# # import chromadb\n",
    "# # from chromadb.config import Settings\n",
    "# # client = chromadb.PersistentClient(path=\"../text-embeddings-llm-inference/cohere_multilingual_embeddings.db\", \n",
    "# #     settings=Settings(anonymized_telemetry=False, allow_reset=False))\n",
    " \n",
    "# from langchain.document_loaders import HuggingFaceDatasetLoader\n",
    "# dataset_name = \"frtna/FineTunetaxonomy\"\n",
    "# page_content_column = \"combined\"\n",
    "# loader = HuggingFaceDatasetLoader(dataset_name, page_content_column)\n",
    "# data = loader.load()\n",
    "\n",
    "# import time\n",
    "# for ix in range(0, len(data), 100):\n",
    "#     # Process the current batch of documents.\n",
    "#     batch = data[ix:ix+100]\n",
    "#     # Create vector embeddings for the current batch.\n",
    "#     vectordb = Chroma.from_documents(batch, embedding=cohere_ef, persist_directory='cohere_embeddings_db')\n",
    "#     # Persist the current batch.\n",
    "#     vectordb.persist()\n",
    "#     # Wait for 60 seconds before processing the next batch.\n",
    "#     time.sleep(80)\n",
    "\n",
    "# db_pers = Chroma(persist_directory=\"../text-embeddings-llm-inference/cohere_multilingual_embeddings.db\", embedding_function=cohere_ef)#, client=client)\n",
    "# db_pers.persist()\n",
    "\n",
    "\n",
    "# query = \"Industrial engineering but more with design and less with management\"\n",
    "# docs = db_pers.similarity_search_with_score(query)\n",
    "# docs"
   ]
  },
  {
   "cell_type": "code",
   "execution_count": 11,
   "metadata": {},
   "outputs": [],
   "source": [
    "from sentence_transformers import SentenceTransformer\n",
    "from chromadb import Embeddings\n",
    "from langchain.vectorstores import Chroma\n",
    "MODEL_NAME = 'sentence-transformers/paraphrase-multilingual-mpnet-base-v2'\n",
    "# sentence_transformer_ef = embedding_functions.SentenceTransformerEmbeddingFunction(model_name=MODEL_NAME, device='cpu')\n",
    "class SentenceTransformerEmbeddings(Embeddings):\n",
    "    def __init__(self, model_name):\n",
    "        self._embedding_function = SentenceTransformer(model_name)\n",
    "    def embed_documents(self, texts):\n",
    "        embeddings = self._embedding_function.encode(texts, convert_to_numpy=True).tolist()\n",
    "        return [list(map(float, e)) for e in embeddings]\n",
    "    def embed_query(self, text):\n",
    "        embeddings = self._embedding_function.encode([text], convert_to_numpy=True).tolist()\n",
    "        return [list(map(float, e)) for e in embeddings][0]\n",
    "\n",
    "sentence_transformer_ef = SentenceTransformerEmbeddings(model_name=MODEL_NAME)\n",
    "# vectordb = Chroma.from_documents(ESCO_data, embedding=sentence_transformer_ef, persist_directory='ESCO_mpnet_db')\n",
    "# vectordb.persist()"
   ]
  },
  {
   "cell_type": "code",
   "execution_count": 56,
   "metadata": {},
   "outputs": [
    {
     "data": {
      "text/plain": [
       "[Document(page_content=\"Job Title: stonemason; Description: Stonemasons manually carve and assemble stone for construction purposes. While CNC operated carving equipment is the industry standard, artisanal carving for ornamental stone is still done manually.; Synonyms: architectural stone mason, architectural stonemason, artisanal stonemason, artisanal stone mason, banker mason, building mason, craft mason, craft stonemason, fixer mason, heritage stone mason, heritage stonemason, mason, memorial mason, memorial stonemason, stone carver, stone cutter, stone finisher, stone mason, stonemason, stone setter, stoneworker, structural stoneworker, tombstone carver; Skills: create cutting plan, follow health and safety procedures in construction, inspect construction supplies, inspect stone surface, interpret 2D plans, interpret 3D plans, maintain work area cleanliness, mark stone workpieces, operate grinding hand tools, polish stone by hand, prepare stone for smoothing, regulate cutting speed, secure working area, transport construction supplies, use measurement instruments, use safety equipment in construction, use stonemason's chisel, work ergonomically\", metadata={'description': 'Stonemasons manually carve and assemble stone for construction purposes. While CNC operated carving equipment is the industry standard, artisanal carving for ornamental stone is still done manually.', 'esco_id': '7113_f3fc11ca-9a72-40da-bf0f-b2aab7e33079', 'job_title': 'stonemason', 'label': 1913, 'skills': \"create cutting plan, follow health and safety procedures in construction, inspect construction supplies, inspect stone surface, interpret 2D plans, interpret 3D plans, maintain work area cleanliness, mark stone workpieces, operate grinding hand tools, polish stone by hand, prepare stone for smoothing, regulate cutting speed, secure working area, transport construction supplies, use measurement instruments, use safety equipment in construction, use stonemason's chisel, work ergonomically\", 'synonyms': 'architectural stone mason, architectural stonemason, artisanal stonemason, artisanal stone mason, banker mason, building mason, craft mason, craft stonemason, fixer mason, heritage stone mason, heritage stonemason, mason, memorial mason, memorial stonemason, stone carver, stone cutter, stone finisher, stone mason, stonemason, stone setter, stoneworker, structural stoneworker, tombstone carver'}),\n",
       " Document(page_content='Job Title: stone engraver; Description: Stone engravers use hand tools, machines and chemical products to etch and carve patterns and inscriptions on stone surfaces.; Synonyms: bespoke stone engraver, decorative stonemason, engraver of stone, hand carver, laser engraver, stone carver, stone engraver, stone etcher, stone hand engraver; Skills: adjust cut sizes, clean engraved areas, cool workpiece, engrave patterns, ensure equipment availability, inspect stone surface, measure materials, operate engraving equipment, position engraving equipment, prepare workpieces for engraving, prepare workpieces for etching, sketch designs on workpieces, wash stone', metadata={'description': 'Stone engravers use hand tools, machines and chemical products to etch and carve patterns and inscriptions on stone surfaces.', 'esco_id': '7113_565987b2-b980-4881-891c-cc4d5ab61d07', 'job_title': 'stone engraver', 'label': 1019, 'skills': 'adjust cut sizes, clean engraved areas, cool workpiece, engrave patterns, ensure equipment availability, inspect stone surface, measure materials, operate engraving equipment, position engraving equipment, prepare workpieces for engraving, prepare workpieces for etching, sketch designs on workpieces, wash stone', 'synonyms': 'bespoke stone engraver, decorative stonemason, engraver of stone, hand carver, laser engraver, stone carver, stone engraver, stone etcher, stone hand engraver'}),\n",
       " Document(page_content='Job Title: bricklayer; Description: Bricklayers assemble brick walls and structures by skilfully laying the bricks in an established pattern, using a binding agent like cement to bond the bricks together. They then fill the joints with mortar or other suitable materials.; Synonyms: bricklayer, brick layer, brick laying labourer, brick laying worker, industrial oven brickmason, specialist brick layer, trowel occupation worker; Skills: check straightness of brick, finish mortar joints, follow health and safety procedures in construction, follow safety procedures when working at heights, inspect construction supplies, install construction profiles, interpret 2D plans, interpret 3D plans, lay bricks, mix construction grouts, secure working area, snap chalk line, sort waste, split bricks, transport construction supplies, use measurement instruments, use safety equipment in construction, work ergonomically', metadata={'description': 'Bricklayers assemble brick walls and structures by skilfully laying the bricks in an established pattern, using a binding agent like cement to bond the bricks together. They then fill the joints with mortar or other suitable materials.', 'esco_id': '7112_05f321f8-055b-407d-bf19-e0ddabda56b7', 'job_title': 'bricklayer', 'label': 74, 'skills': 'check straightness of brick, finish mortar joints, follow health and safety procedures in construction, follow safety procedures when working at heights, inspect construction supplies, install construction profiles, interpret 2D plans, interpret 3D plans, lay bricks, mix construction grouts, secure working area, snap chalk line, sort waste, split bricks, transport construction supplies, use measurement instruments, use safety equipment in construction, work ergonomically', 'synonyms': 'bricklayer, brick layer, brick laying labourer, brick laying worker, industrial oven brickmason, specialist brick layer, trowel occupation worker'}),\n",
       " Document(page_content='Job Title: stone planer; Description: Stone planers operate and maintain planing machines that are used for stone blocks and slabs finishing. They manipulate the stone and ensure that the required parameters are according to specifications.; Synonyms: planer of stones, stone planer, stone planing machine operative, stone planing machine operator, stone planing machine setter, stone planing machine tender, stone slab planer; Skills: dispose of cutting waste material, ensure equipment availability, inspect stone surface, maneuver stone blocks, mark stone workpieces, measure flatness of a surface, measure materials, operate precision measuring equipment, prepare stone for smoothing, regulate cutting speed, remove processed workpiece, supply machine, supply machine with appropriate tools, tend planing machine, troubleshoot, use stone splitting techniques, wear appropriate protective gear', metadata={'description': 'Stone planers operate and maintain planing machines that are used for stone blocks and slabs finishing. They manipulate the stone and ensure that the required parameters are according to specifications.', 'esco_id': '8112_3e9c6f2a-dc20-4366-aeb9-99dffd635b4c', 'job_title': 'stone planer', 'label': 1345, 'skills': 'dispose of cutting waste material, ensure equipment availability, inspect stone surface, maneuver stone blocks, mark stone workpieces, measure flatness of a surface, measure materials, operate precision measuring equipment, prepare stone for smoothing, regulate cutting speed, remove processed workpiece, supply machine, supply machine with appropriate tools, tend planing machine, troubleshoot, use stone splitting techniques, wear appropriate protective gear', 'synonyms': 'planer of stones, stone planer, stone planing machine operative, stone planing machine operator, stone planing machine setter, stone planing machine tender, stone slab planer'}),\n",
       " Document(page_content='Job Title: stone driller; Description: Stone drillers operate the drilling machine that bores holes into stone blocks. They manipulate granit, sandstone, marble and slate according to specifications.; Synonyms: granite driller, marble driller, pneumatic drill operator, radial drill operator, sandstone driller, slate cutter, slate driller, stone driller, stone drilling machine operative, stone drilling machine operator, stone drilling worker; Skills: maneuver stone blocks, operate drill press, operate drilling equipment, optimise production processes parameters, remove processed workpiece, set up the controller of a machine, supply machine, supply machine with appropriate tools, troubleshoot', metadata={'description': 'Stone drillers operate the drilling machine that bores holes into stone blocks. They manipulate granit, sandstone, marble and slate according to specifications.', 'esco_id': '8112_610bee9f-d7f0-4b18-918e-f2a4a91f8912', 'job_title': 'stone driller', 'label': 383, 'skills': 'maneuver stone blocks, operate drill press, operate drilling equipment, optimise production processes parameters, remove processed workpiece, set up the controller of a machine, supply machine, supply machine with appropriate tools, troubleshoot', 'synonyms': 'granite driller, marble driller, pneumatic drill operator, radial drill operator, sandstone driller, slate cutter, slate driller, stone driller, stone drilling machine operative, stone drilling machine operator, stone drilling worker'}),\n",
       " Document(page_content='Job Title: ornamental metal worker; Description: Ornamental metal workers use finishing equipment and machinery to shape and finish fabricated ornamental metal workpieces, often used for the installation process in construction, such as railings, staircases, open steel flooring, fences and gates, and others.; Synonyms: ornamental metal worker, ornamental metalwork metal fabricator, precision structural metal fitter, precision structural steel fitter, Structural and ornamental metalwork copper fabricator, structural and ornamental metalwork metal fabricator, structural and ornamental metalwork steel fabricator, welder fabricator, welder fabricator installer; Skills: apply precision metalworking techniques, cut ornamental design, ensure correct metal temperature, ensure equipment availability, heat metals, mark a metal workpiece, mark designs on metal pieces, operate precision measuring equipment, recognise signs of corrosion, remove inadequate workpieces, remove processed workpiece, shape metal over anvils, shape ornamental design, use metalworking tools, wear appropriate protective gear', metadata={'description': 'Ornamental metal workers use finishing equipment and machinery to shape and finish fabricated ornamental metal workpieces, often used for the installation process in construction, such as railings, staircases, open steel flooring, fences and gates, and others.', 'esco_id': '7223_c44f9f8c-46a6-40da-9630-cc568a18cc51', 'job_title': 'ornamental metal worker', 'label': 2188, 'skills': 'apply precision metalworking techniques, cut ornamental design, ensure correct metal temperature, ensure equipment availability, heat metals, mark a metal workpiece, mark designs on metal pieces, operate precision measuring equipment, recognise signs of corrosion, remove inadequate workpieces, remove processed workpiece, shape metal over anvils, shape ornamental design, use metalworking tools, wear appropriate protective gear', 'synonyms': 'ornamental metal worker, ornamental metalwork metal fabricator, precision structural metal fitter, precision structural steel fitter, Structural and ornamental metalwork copper fabricator, structural and ornamental metalwork metal fabricator, structural and ornamental metalwork steel fabricator, welder fabricator, welder fabricator installer'}),\n",
       " Document(page_content='Job Title: stone polisher; Description: Stone polishers operate grinding and polishing tools and equipment in order to smooth stones.; Synonyms: granite polisher, hand grinder, hand stone polisher, marble polisher, stone polisher, stone polishing machine operative, stone polishing worker, surface polisher, wet stone polisher, worktop polisher; Skills: apply health and safety standards, ensure equipment availability, inspect stone surface, measure materials, polish stone surfaces, prepare stone for smoothing, remove processed workpiece, set up the controller of a machine, supply machine, supply machine with appropriate tools, troubleshoot, use abrasive wheel, use polishing compounds, wash stone', metadata={'description': 'Stone polishers operate grinding and polishing tools and equipment in order to smooth stones.', 'esco_id': '8114_c453886f-a8f0-434c-be0e-e6a12c49954f', 'job_title': 'stone polisher', 'label': 2285, 'skills': 'apply health and safety standards, ensure equipment availability, inspect stone surface, measure materials, polish stone surfaces, prepare stone for smoothing, remove processed workpiece, set up the controller of a machine, supply machine, supply machine with appropriate tools, troubleshoot, use abrasive wheel, use polishing compounds, wash stone', 'synonyms': 'granite polisher, hand grinder, hand stone polisher, marble polisher, stone polisher, stone polishing machine operative, stone polishing worker, surface polisher, wet stone polisher, worktop polisher'}),\n",
       " Document(page_content='Job Title: building construction worker; Description: Building construction workers prepare and maintain building construction activities on construction sites. They perform preparation and clean-up work in order to assist specialised construction workers.; Synonyms: building construction labourer, building construction worker, building site labourer, building site worker, civil construction worker, construction labourer, construction site labourer, construction site worker, construction worker, electrical construction worker, installation and commissioning construction worker, mechanical construction worker; Skills: apply finish to concrete, check compatibility of materials, dig soil mechanically, follow health and safety procedures in construction, inspect construction supplies, inspect masonry work, install construction profiles, install wood elements in structures, mix concrete, move soil, operate digging construction equipment, place drywall, pour concrete, prepare surface for painting, prepare surface for plastering, prepare wall for wallpaper, transport construction supplies, use safety equipment in construction, work in a construction team', metadata={'description': 'Building construction workers prepare and maintain building construction activities on construction sites. They perform preparation and clean-up work in order to assist specialised construction workers.', 'esco_id': '9313_fb7e2f4f-1545-42f1-972e-94082e49c6dc', 'job_title': 'building construction worker', 'label': 1071, 'skills': 'apply finish to concrete, check compatibility of materials, dig soil mechanically, follow health and safety procedures in construction, inspect construction supplies, inspect masonry work, install construction profiles, install wood elements in structures, mix concrete, move soil, operate digging construction equipment, place drywall, pour concrete, prepare surface for painting, prepare surface for plastering, prepare wall for wallpaper, transport construction supplies, use safety equipment in construction, work in a construction team', 'synonyms': 'building construction labourer, building construction worker, building site labourer, building site worker, civil construction worker, construction labourer, construction site labourer, construction site worker, construction worker, electrical construction worker, installation and commissioning construction worker, mechanical construction worker'}),\n",
       " Document(page_content='Job Title: foundry moulder; Description: Foundry moulders manufacture cores for metal moulds, which are used to fill a space in the mould that must remain unfilled during casting. They use wood, plastic or other materials to create the core, selected to withstand the extreme environment of a metal mould.; Synonyms: coremaker, core maker, foundry core maker, foundry coremaker, foundry molder, foundry sand moulder, foundry worker, sand moulder; Skills: construct cores, ensure core uniformity, insert core structures, maintain core parts, maintain cores, position core workpieces, pour molten metal into cores, provide pouring holes in cores, repair core defects, troubleshoot', metadata={'description': 'Foundry moulders manufacture cores for metal moulds, which are used to fill a space in the mould that must remain unfilled during casting. They use wood, plastic or other materials to create the core, selected to withstand the extreme environment of a metal mould.', 'esco_id': '7211_c5902c47-0c2e-45aa-94dd-951ad641449c', 'job_title': 'foundry moulder', 'label': 97, 'skills': 'construct cores, ensure core uniformity, insert core structures, maintain core parts, maintain cores, position core workpieces, pour molten metal into cores, provide pouring holes in cores, repair core defects, troubleshoot', 'synonyms': 'coremaker, core maker, foundry core maker, foundry coremaker, foundry molder, foundry sand moulder, foundry worker, sand moulder'}),\n",
       " Document(page_content='Job Title: civil engineering worker; Description: Civil engineering workers perform tasks concerning the cleaning and preparation of construction sites for civil engineering projects. This includes the work on building and maintenance of roads, railways and dams.; Synonyms: building worker, civil engineering company worker, civil engineering contract worker, civil engineering worker, civils groundworker, civils ground worker, civils operative, civils worker, construction worker, ground worker, groundworker, site worker; Skills: dig soil mechanically, follow health and safety procedures in construction, guide operation of heavy construction equipment, inspect asphalt, inspect construction sites, inspect construction supplies, inspect drainage channels, inspect railways visually, inspect road signs, lay base courses, lay pipe installation, operate drones in civil engineering, pave asphalt layers, perform drainage work, position guardrails and toeboards, prepare subgrade for road pavement, provide pipe bedding, remove road surface, transport construction supplies, use safety equipment in construction, work in a construction team', metadata={'description': 'Civil engineering workers perform tasks concerning the cleaning and preparation of construction sites for civil engineering projects. This includes the work on building and maintenance of roads, railways and dams.', 'esco_id': '9312_47300afa-5496-484c-8f65-14247a98b2b8', 'job_title': 'civil engineering worker', 'label': 460, 'skills': 'dig soil mechanically, follow health and safety procedures in construction, guide operation of heavy construction equipment, inspect asphalt, inspect construction sites, inspect construction supplies, inspect drainage channels, inspect railways visually, inspect road signs, lay base courses, lay pipe installation, operate drones in civil engineering, pave asphalt layers, perform drainage work, position guardrails and toeboards, prepare subgrade for road pavement, provide pipe bedding, remove road surface, transport construction supplies, use safety equipment in construction, work in a construction team', 'synonyms': 'building worker, civil engineering company worker, civil engineering contract worker, civil engineering worker, civils groundworker, civils ground worker, civils operative, civils worker, construction worker, ground worker, groundworker, site worker'})]"
      ]
     },
     "execution_count": 56,
     "metadata": {},
     "output_type": "execute_result"
    }
   ],
   "source": [
    "# Define the number of query results to retrieve.\n",
    "job_offer = 'Job Title: Stone Masonary'\n",
    "NUM_QUERY = 10\n",
    "vectordb = Chroma(persist_directory=\"ESCO_mpnet_db\", embedding_function=sentence_transformer_ef)\n",
    "docs = vectordb.similarity_search(job_offer, NUM_QUERY)\n",
    "docs"
   ]
  },
  {
   "cell_type": "code",
   "execution_count": 57,
   "metadata": {},
   "outputs": [
    {
     "data": {
      "text/plain": [
       "[Document(page_content=\"Job Title: stonemason; Description: Stonemasons manually carve and assemble stone for construction purposes. While CNC operated carving equipment is the industry standard, artisanal carving for ornamental stone is still done manually.; Synonyms: architectural stone mason, architectural stonemason, artisanal stonemason, artisanal stone mason, banker mason, building mason, craft mason, craft stonemason, fixer mason, heritage stone mason, heritage stonemason, mason, memorial mason, memorial stonemason, stone carver, stone cutter, stone finisher, stone mason, stonemason, stone setter, stoneworker, structural stoneworker, tombstone carver; Skills: create cutting plan, follow health and safety procedures in construction, inspect construction supplies, inspect stone surface, interpret 2D plans, interpret 3D plans, maintain work area cleanliness, mark stone workpieces, operate grinding hand tools, polish stone by hand, prepare stone for smoothing, regulate cutting speed, secure working area, transport construction supplies, use measurement instruments, use safety equipment in construction, use stonemason's chisel, work ergonomically\", metadata={'description': 'Stonemasons manually carve and assemble stone for construction purposes. While CNC operated carving equipment is the industry standard, artisanal carving for ornamental stone is still done manually.', 'esco_id': '7113_f3fc11ca-9a72-40da-bf0f-b2aab7e33079', 'job_title': 'stonemason', 'label': 1913, 'skills': \"create cutting plan, follow health and safety procedures in construction, inspect construction supplies, inspect stone surface, interpret 2D plans, interpret 3D plans, maintain work area cleanliness, mark stone workpieces, operate grinding hand tools, polish stone by hand, prepare stone for smoothing, regulate cutting speed, secure working area, transport construction supplies, use measurement instruments, use safety equipment in construction, use stonemason's chisel, work ergonomically\", 'synonyms': 'architectural stone mason, architectural stonemason, artisanal stonemason, artisanal stone mason, banker mason, building mason, craft mason, craft stonemason, fixer mason, heritage stone mason, heritage stonemason, mason, memorial mason, memorial stonemason, stone carver, stone cutter, stone finisher, stone mason, stonemason, stone setter, stoneworker, structural stoneworker, tombstone carver'}),\n",
       " Document(page_content='Job Title: stone engraver; Description: Stone engravers use hand tools, machines and chemical products to etch and carve patterns and inscriptions on stone surfaces.; Synonyms: bespoke stone engraver, decorative stonemason, engraver of stone, hand carver, laser engraver, stone carver, stone engraver, stone etcher, stone hand engraver; Skills: adjust cut sizes, clean engraved areas, cool workpiece, engrave patterns, ensure equipment availability, inspect stone surface, measure materials, operate engraving equipment, position engraving equipment, prepare workpieces for engraving, prepare workpieces for etching, sketch designs on workpieces, wash stone', metadata={'description': 'Stone engravers use hand tools, machines and chemical products to etch and carve patterns and inscriptions on stone surfaces.', 'esco_id': '7113_565987b2-b980-4881-891c-cc4d5ab61d07', 'job_title': 'stone engraver', 'label': 1019, 'skills': 'adjust cut sizes, clean engraved areas, cool workpiece, engrave patterns, ensure equipment availability, inspect stone surface, measure materials, operate engraving equipment, position engraving equipment, prepare workpieces for engraving, prepare workpieces for etching, sketch designs on workpieces, wash stone', 'synonyms': 'bespoke stone engraver, decorative stonemason, engraver of stone, hand carver, laser engraver, stone carver, stone engraver, stone etcher, stone hand engraver'}),\n",
       " Document(page_content='Job Title: stone planer; Description: Stone planers operate and maintain planing machines that are used for stone blocks and slabs finishing. They manipulate the stone and ensure that the required parameters are according to specifications.; Synonyms: planer of stones, stone planer, stone planing machine operative, stone planing machine operator, stone planing machine setter, stone planing machine tender, stone slab planer; Skills: dispose of cutting waste material, ensure equipment availability, inspect stone surface, maneuver stone blocks, mark stone workpieces, measure flatness of a surface, measure materials, operate precision measuring equipment, prepare stone for smoothing, regulate cutting speed, remove processed workpiece, supply machine, supply machine with appropriate tools, tend planing machine, troubleshoot, use stone splitting techniques, wear appropriate protective gear', metadata={'description': 'Stone planers operate and maintain planing machines that are used for stone blocks and slabs finishing. They manipulate the stone and ensure that the required parameters are according to specifications.', 'esco_id': '8112_3e9c6f2a-dc20-4366-aeb9-99dffd635b4c', 'job_title': 'stone planer', 'label': 1345, 'skills': 'dispose of cutting waste material, ensure equipment availability, inspect stone surface, maneuver stone blocks, mark stone workpieces, measure flatness of a surface, measure materials, operate precision measuring equipment, prepare stone for smoothing, regulate cutting speed, remove processed workpiece, supply machine, supply machine with appropriate tools, tend planing machine, troubleshoot, use stone splitting techniques, wear appropriate protective gear', 'synonyms': 'planer of stones, stone planer, stone planing machine operative, stone planing machine operator, stone planing machine setter, stone planing machine tender, stone slab planer'}),\n",
       " Document(page_content='Job Title: precious stone setter; Description: Precious stone setters use tools to insert diamonds and other gemstones into jewellery settings according to specifications. The setting of the gemstone depends on its size and its shape.; Synonyms: diamond setter, gem setter, gemsetter, gemstone setter, gem stone setter, jewelery stone setter, jewellery stone setter, precious stone craftsman, precious stone craftswoman, precious stone craftworker, precious stone setter; Skills: assemble jewellery parts, attend to detail regarding jewellery creation, ensure conformance to jewel design specifications, examine gems, mount stones in jewels, record jewel weight, use jewellery equipment, use precision tools', metadata={'description': 'Precious stone setters use tools to insert diamonds and other gemstones into jewellery settings according to specifications. The setting of the gemstone depends on its size and its shape.', 'esco_id': '7313_6729aa5a-285f-4baf-a466-c2ccd2f2d96f', 'job_title': 'precious stone setter', 'label': 431, 'skills': 'assemble jewellery parts, attend to detail regarding jewellery creation, ensure conformance to jewel design specifications, examine gems, mount stones in jewels, record jewel weight, use jewellery equipment, use precision tools', 'synonyms': 'diamond setter, gem setter, gemsetter, gemstone setter, gem stone setter, jewelery stone setter, jewellery stone setter, precious stone craftsman, precious stone craftswoman, precious stone craftworker, precious stone setter'}),\n",
       " Document(page_content='Job Title: bricklayer; Description: Bricklayers assemble brick walls and structures by skilfully laying the bricks in an established pattern, using a binding agent like cement to bond the bricks together. They then fill the joints with mortar or other suitable materials.; Synonyms: bricklayer, brick layer, brick laying labourer, brick laying worker, industrial oven brickmason, specialist brick layer, trowel occupation worker; Skills: check straightness of brick, finish mortar joints, follow health and safety procedures in construction, follow safety procedures when working at heights, inspect construction supplies, install construction profiles, interpret 2D plans, interpret 3D plans, lay bricks, mix construction grouts, secure working area, snap chalk line, sort waste, split bricks, transport construction supplies, use measurement instruments, use safety equipment in construction, work ergonomically', metadata={'description': 'Bricklayers assemble brick walls and structures by skilfully laying the bricks in an established pattern, using a binding agent like cement to bond the bricks together. They then fill the joints with mortar or other suitable materials.', 'esco_id': '7112_05f321f8-055b-407d-bf19-e0ddabda56b7', 'job_title': 'bricklayer', 'label': 74, 'skills': 'check straightness of brick, finish mortar joints, follow health and safety procedures in construction, follow safety procedures when working at heights, inspect construction supplies, install construction profiles, interpret 2D plans, interpret 3D plans, lay bricks, mix construction grouts, secure working area, snap chalk line, sort waste, split bricks, transport construction supplies, use measurement instruments, use safety equipment in construction, work ergonomically', 'synonyms': 'bricklayer, brick layer, brick laying labourer, brick laying worker, industrial oven brickmason, specialist brick layer, trowel occupation worker'}),\n",
       " Document(page_content='Job Title: ceramicist; Description: Ceramicist have an in-depth knowledge of materials and the relevant know-how to develop their own methods of expression and personal projects through ceramic. Their creations can include ceramic sculptures, jewellery, domestic and commercial tablewares and kitchenwares, giftware, garden ceramics, wall and floor tiles.; Synonyms: artistic ceramicist, ceramicist, ceramics artist, ceramics designer & maker, ceramics designer and maker, ceramics maker & designer, ceramics maker and designer, ceramist; Skills: add coils to ceramic work, add slabs to ceramic work, contextualise artistic work, create artwork, create ceramic objects, create ceramic work by hand, create craft prototypes, create enamels, design objects to be crafted, discuss artwork, gather reference materials for artwork, handle different pottery materials, manage different ceramic firing techniques, operate a ceramics kiln, select artistic materials to create artworks, sketch designs on workpieces, study craft trends, supervise craft production, transfer designs on workpiece', metadata={'description': 'Ceramicist have an in-depth knowledge of materials and the relevant know-how to develop their own methods of expression and personal projects through ceramic. Their creations can include ceramic sculptures, jewellery, domestic and commercial tablewares and kitchenwares, giftware, garden ceramics, wall and floor tiles.', 'esco_id': '2651_ec0e64c9-6d9b-4a9f-a022-a418f3b381fe', 'job_title': 'ceramicist', 'label': 1960, 'skills': 'add coils to ceramic work, add slabs to ceramic work, contextualise artistic work, create artwork, create ceramic objects, create ceramic work by hand, create craft prototypes, create enamels, design objects to be crafted, discuss artwork, gather reference materials for artwork, handle different pottery materials, manage different ceramic firing techniques, operate a ceramics kiln, select artistic materials to create artworks, sketch designs on workpieces, study craft trends, supervise craft production, transfer designs on workpiece', 'synonyms': 'artistic ceramicist, ceramicist, ceramics artist, ceramics designer & maker, ceramics designer and maker, ceramics maker & designer, ceramics maker and designer, ceramist'}),\n",
       " Document(page_content='Job Title: foundry moulder; Description: Foundry moulders manufacture cores for metal moulds, which are used to fill a space in the mould that must remain unfilled during casting. They use wood, plastic or other materials to create the core, selected to withstand the extreme environment of a metal mould.; Synonyms: coremaker, core maker, foundry core maker, foundry coremaker, foundry molder, foundry sand moulder, foundry worker, sand moulder; Skills: construct cores, ensure core uniformity, insert core structures, maintain core parts, maintain cores, position core workpieces, pour molten metal into cores, provide pouring holes in cores, repair core defects, troubleshoot', metadata={'description': 'Foundry moulders manufacture cores for metal moulds, which are used to fill a space in the mould that must remain unfilled during casting. They use wood, plastic or other materials to create the core, selected to withstand the extreme environment of a metal mould.', 'esco_id': '7211_c5902c47-0c2e-45aa-94dd-951ad641449c', 'job_title': 'foundry moulder', 'label': 97, 'skills': 'construct cores, ensure core uniformity, insert core structures, maintain core parts, maintain cores, position core workpieces, pour molten metal into cores, provide pouring holes in cores, repair core defects, troubleshoot', 'synonyms': 'coremaker, core maker, foundry core maker, foundry coremaker, foundry molder, foundry sand moulder, foundry worker, sand moulder'}),\n",
       " Document(page_content='Job Title: sculptor; Description: Sculptors may use a wide variety of materials to create sculptures, such as stone, clay, glass, wood, plaster, or any material of their choice. Those materials can be carved, modelled, moulded, cast, wrought, welded, and so on, in order to reach the desired shape.; Synonyms: clay sculptor, clay sculptress, ice sculptor, ice sculptress, marble sculptor, marble sculptress, metal sculptor, metal sculptress, sculpting artist, sculptor, sculptress, stone sculptor, stone sculptress, welded steel sculptor, welded steel sculptress, wood sculptor, wood sculptress; Skills: create artwork, create model, create sculptures, design objects to be crafted, maintain an artistic portfolio, monitor art scene developments, research sculpture trends, select artistic materials to create artworks, study artistic techniques, study artworks', metadata={'description': 'Sculptors may use a wide variety of materials to create sculptures, such as stone, clay, glass, wood, plaster, or any material of their choice. Those materials can be carved, modelled, moulded, cast, wrought, welded, and so on, in order to reach the desired shape.', 'esco_id': '2651_94d94bd0-9ac3-4bd8-81c0-c3fdf551aa16', 'job_title': 'sculptor', 'label': 1014, 'skills': 'create artwork, create model, create sculptures, design objects to be crafted, maintain an artistic portfolio, monitor art scene developments, research sculpture trends, select artistic materials to create artworks, study artistic techniques, study artworks', 'synonyms': 'clay sculptor, clay sculptress, ice sculptor, ice sculptress, marble sculptor, marble sculptress, metal sculptor, metal sculptress, sculpting artist, sculptor, sculptress, stone sculptor, stone sculptress, welded steel sculptor, welded steel sculptress, wood sculptor, wood sculptress'}),\n",
       " Document(page_content='Job Title: pottery and porcelain caster; Description: Pottery and porcelain casters fill moulds with clay to cast pottery and porcelain wares. They pour excess slip out of the mould when needed, drain moulds, remove the cast from the mould, smooth the casting surfaces to remove marks and place the castings on boards to dry.; Synonyms: caster of pottery and porcelain, caster of pottery and porcelain ware, porcelain caster, pottery and porcelain caster, pottery and porcelain molder, pottery and porcelain moulder, pottery and porcelain ware caster, pottery caster; Skills: conform with clay thickness, extract products from moulds, inspect quality of products, monitor automated machines, set up the controller of a machine, tend jigger machines, tend pug mills, troubleshoot, use personal protection equipment', metadata={'description': 'Pottery and porcelain casters fill moulds with clay to cast pottery and porcelain wares. They pour excess slip out of the mould when needed, drain moulds, remove the cast from the mould, smooth the casting surfaces to remove marks and place the castings on boards to dry.', 'esco_id': '8181_5f617498-da0d-454a-9658-5e02d28a4bd7', 'job_title': 'pottery and porcelain caster', 'label': 1424, 'skills': 'conform with clay thickness, extract products from moulds, inspect quality of products, monitor automated machines, set up the controller of a machine, tend jigger machines, tend pug mills, troubleshoot, use personal protection equipment', 'synonyms': 'caster of pottery and porcelain, caster of pottery and porcelain ware, porcelain caster, pottery and porcelain caster, pottery and porcelain molder, pottery and porcelain moulder, pottery and porcelain ware caster, pottery caster'}),\n",
       " Document(page_content='Job Title: stone polisher; Description: Stone polishers operate grinding and polishing tools and equipment in order to smooth stones.; Synonyms: granite polisher, hand grinder, hand stone polisher, marble polisher, stone polisher, stone polishing machine operative, stone polishing worker, surface polisher, wet stone polisher, worktop polisher; Skills: apply health and safety standards, ensure equipment availability, inspect stone surface, measure materials, polish stone surfaces, prepare stone for smoothing, remove processed workpiece, set up the controller of a machine, supply machine, supply machine with appropriate tools, troubleshoot, use abrasive wheel, use polishing compounds, wash stone', metadata={'description': 'Stone polishers operate grinding and polishing tools and equipment in order to smooth stones.', 'esco_id': '8114_c453886f-a8f0-434c-be0e-e6a12c49954f', 'job_title': 'stone polisher', 'label': 2285, 'skills': 'apply health and safety standards, ensure equipment availability, inspect stone surface, measure materials, polish stone surfaces, prepare stone for smoothing, remove processed workpiece, set up the controller of a machine, supply machine, supply machine with appropriate tools, troubleshoot, use abrasive wheel, use polishing compounds, wash stone', 'synonyms': 'granite polisher, hand grinder, hand stone polisher, marble polisher, stone polisher, stone polishing machine operative, stone polishing worker, surface polisher, wet stone polisher, worktop polisher'})]"
      ]
     },
     "execution_count": 57,
     "metadata": {},
     "output_type": "execute_result"
    }
   ],
   "source": [
    "# Define the number of query results to retrieve.\n",
    "job_offer = 'Stone Masonary'\n",
    "NUM_QUERY = 10\n",
    "vectordb = Chroma(persist_directory=\"ESCO_mpnet_db\", embedding_function=sentence_transformer_ef)\n",
    "docs = vectordb.similarity_search(job_offer, NUM_QUERY)\n",
    "docs"
   ]
  },
  {
   "cell_type": "code",
   "execution_count": 7,
   "metadata": {},
   "outputs": [
    {
     "name": "stdout",
     "output_type": "stream",
     "text": [
      "There are 0 in the collection\n"
     ]
    }
   ],
   "source": [
    "print(\"There are\", vectordb._collection.count(), \"in the collection\")"
   ]
  },
  {
   "cell_type": "code",
   "execution_count": 95,
   "metadata": {},
   "outputs": [
    {
     "data": {
      "text/plain": [
       "\"Job Title: financial auditor; Description: Financial auditors collect and examine financial data for clients, organisations and companies. They ensure the financial data is properly maintained and free of material misstatements due to error or fraud, that it adds up, and functions legally and effectively. They review lending and credit policies or numbers in databases and documents, evaluate, consult and assist the source of the transaction if necessary. They use their review of the client's financial governance as assurance to give testimony to the shareholders, stakeholders and board of directors of the organisation or company that all is up to par.; Synonyms: audit manager, auditor, bank auditor, bank examiner, chartered accountant, external auditor, external examiner, finance auditor, finances auditor, financial auditor, financial examiner, financial systems analyst, internal auditor, internal examiner, senior internal auditor; Skills: analyse financial risk, arrange audit, check accounting records, conduct financial audits, control financial resources, develop audit plan, inspect tax returns, interpret financial statements, monitor banking activities, observe confidentiality, obtain financial information, pose questions referring to documents, prepare financial auditing reports, present reports\""
      ]
     },
     "execution_count": 95,
     "metadata": {},
     "output_type": "execute_result"
    }
   ],
   "source": [
    "docs[0].page_content"
   ]
  },
  {
   "cell_type": "code",
   "execution_count": 49,
   "metadata": {},
   "outputs": [],
   "source": [
    "from langchain.llms.bedrock import Bedrock\n",
    "from langchain.embeddings import BedrockEmbeddings\n",
    "import boto3\n",
    "bedrock_client = boto3.client('bedrock-runtime', region_name='eu-central-1')\n",
    "def create_langchain_vector_embedding_using_bedrock(bedrock_client, bedrock_embedding_model_id):\n",
    "    bedrock_embeddings_client = BedrockEmbeddings(\n",
    "        client=bedrock_client,\n",
    "        model_id=bedrock_embedding_model_id)\n",
    "    return bedrock_embeddings_client\n",
    "    \n",
    "\n",
    "def create_bedrock_llm(bedrock_client, model_version_id):\n",
    "    bedrock_llm = Bedrock(\n",
    "        model_id=model_version_id, \n",
    "        client=bedrock_client,\n",
    "        model_kwargs={'temperature': 0}\n",
    "        )\n",
    "    return bedrock_llm\n",
    "\n",
    "llm = create_bedrock_llm(bedrock_client=bedrock_client, model_version_id=\"anthropic.claude-v2\")\n",
    "embeddings = create_langchain_vector_embedding_using_bedrock(bedrock_client=bedrock_client, bedrock_embedding_model_id=\"anthropic.claude-v2\")\n"
   ]
  },
  {
   "cell_type": "code",
   "execution_count": 53,
   "metadata": {},
   "outputs": [],
   "source": [
    "# import os\n",
    "# from langchain.document_loaders import PyPDFLoader\n",
    "\n",
    "# pdf_loader = PyPDFLoader('../data/example_cv_2.pdf', extract_images=True)\n",
    "# docs = pdf_loader.load()\n",
    "# def temp_vectorstore(docs):\n",
    "#     vectordb = Chroma.from_documents(\n",
    "#     docs,\n",
    "#     embedding=sentence_transformer_ef,\n",
    "#     persist_directory='../data/temp_db'\n",
    "#     )\n",
    "#     vectordb.persist()\n",
    "#     return vectordb\n",
    "# temp_vectordb = temp_vectorstore(docs)"
   ]
  },
  {
   "cell_type": "code",
   "execution_count": 130,
   "metadata": {},
   "outputs": [
    {
     "data": {
      "text/plain": [
       "['Job Title: Auditor; Description: We are seeking a dynamic individual to be a part of our Audit department. As our auditor, your responsibilities will include planning and performing a variety of internal audits and special projects throughout the company, which include a variety of Senior Management driven assignments.These audits will include detailed assessment of operational, financial and systems activities where a thorough understanding of control processes must be obtained from a variety of people and resources. You&rsquo;ll provide recommendations that will include strengthening internal controls, mitigating financial risks and safeguarding the corporation.; Synonyms: ; Skills: - 3 to 5 years of experience auditing large companies in either Public Accounting or industry.  - Strong technical knowledge of US generally accepted accounting principles.- A CPA or CIA is preferred.- Excellent communication skills (written and oral) with a strong attention to detail.  - Ability to work effectively with a broad diversity of people.- Self-motivated individual with ability to operate independently.  - Demonstrated success working across different functions &amp; levels of management.  - This position also requires the ability to travel (approximately 20%) to locations around the world.EducationBachelor&rsquo;s degree in Business Administration, Accounting, or Finance.',\n",
       " \"Job Title: Auditor; Description: An Oil\\xa0and Gas Company's\\xa0Internal Audit team encourages their Senior Auditorsto move out into the Corporate organization every two years.\\xa0 Because of this, they need to identify and hire two strong  Auditors  from public accounting to join their team.Responsibilities:• Plan, organize and perform various financial and compliance audits across business segments  • Perform testing of internal controls in compliance with the SOX requirements  • Develop and summarize audit observations• Communicate audit results and observations to internal clients• Assist with creation and documentation of audit procedures  • Perform special projects as requested; Synonyms: ; Skills: • Bachelor’s degree in Accounting, advanced degree is helpful  • CPA or parts passed• 2 - 4 years of public accounting  • Travel less than 50%  • Strong communication skills  • US Citizen or Permanent ResidentSalary: Up to $80,000 plus bonusKeywords:  CPA, Big 4, accountant, audit, internal audit, accounting, Excel, financial analysis, variance analysis, SEC, reporting, internal, external, Senior Auditor, audit support, public accountingEqual Employment Opportunity (EEO)  SolomonEdwardsGroup, LLC (SEG) is committed to a policy of equal opportunity in deciding all matters relating to employment—including hiring, compensation, training, advancement, transfer, promotion, discharge and all other terms and conditions of employment.\\xa0 SEG does not unlawfully discriminate on the basis of race, religion, color, gender, age, veteran status, non-disqualifying physical or mental disability, national origin or any other basis covered by law.\",\n",
       " \"Job Title: Auditor; Description: Job Title: AuditorLocation: Boston, MAJob Type: Full-timeTravel: 20 - 30%SUMMARY:The Auditor will be responsible for providing assistance in developing and executing financial and operational risk based audits, testing SOX-404 controls and working on special projects and investigations in accordance with the internal audit plan. The incumbent will be responsible for conducting all work in accordance with Internal Audit Standards. This responsibility includes assisting in audit planning, performing internal audit testing procedures, and assisting in the preparation of internal audit reports that reflect the results of the work performed. Additionally, the Auditor will follow-up on the status of outstanding internal audit issues. Work will include company-wide coverage, focusing on financial, operational and internal control processes.ESSENTIAL FUNCTIONS:&bull; Support the SOX-404 process, including scoping, planning, walkthroughs, testing and statusreporting.&bull; Evaluate the adequacy of internal control and processes through detailed testing.&bull; Compile audit findings and recommend value-added revisions to systems and procedures.&bull; Follow-up on open audit issues&bull; Assist in confidential audits or fraud investigations.&bull; Participate on cross-functional efforts within the company to improve company operations. Thisincludes, but is not limited to; project task forces, internal control committees, corporate-wide initiatives, process excellence teams, or other cross functional efforts).&bull; Support external auditors.ENVIRONMENT:Approximately 75% performed in climate-controlled internal office environment working under normal office conditions. Approximately 25% travel required. While performing the duties of this job, the employee is regularly required to sit, stand, walk, use hands and finger to feel and handle, reach with arms and hands, talk, and hear. While performing the duties of this job, the employee frequently is required to stoop, kneel, and crouch; lift weight or exert a force up to a maximum of 25 pounds.; Synonyms: ; Skills: QUALIFICATIONS:&bull; Excellent organizational skills.&bull; Excellent written and verbal communication skills.&bull; Strong analytical skills.&bull; Understanding of internal control concepts and experience in applying them to plan, perform,manage and report on the evaluation of various business processes/areas/functions.&bull; Ability to interact well with internal and external parties with audit related questions.&bull; Strong computer skills including Microsoft Office suite and Oracle (preferred).&bull; Detail orientated ability to multitask and meet deadlines.&bull; Ability to complete projects and reports within communicated deadlines.&bull; Superior analytical, critical thinking and problem-solving skills.&bull; Knowledge of GAAP, Committee of Sponsoring Organizations of the Treadway Commission (COSO), SOX, and Institute of Internal Auditors (IIA) Standards and Practice Advisories.&bull; The incumbent must be flexible as there may be workweeks that require more than 40 hours to ensure the positions expectations and responsibilities are met.EDUCATION AND EXPERIENCE:&bull; One (1) - two (2) years of experience in financial and operational auditing.&bull; Bachelor's degree in accounting, finance or business administration required.\",\n",
       " 'Job Title: Auditor; Description: Position Overview :The Staff &amp; Senior Auditor are responsible for executing the individual financial and operational audits on the audit plan under the direction of the Manager of Internal Audit.  This will include planning, fieldwork, reporting and follow-up.  In addition, these positions will be responsible for participating in various special projects at the discretion of the Manager of Internal Audit.This position will be based out of Richmond, VAThere will be approximately 35% domestic travel requiredUSI is an equal opportunity employer and encourages diversity in the workplace  Prefer local candidates / no third party resumes pleaseResponsibilities :The responsibilities of this position include but are not limited to:Perform audits of corporate-wide financial and operational controlsIdentify control gaps/testing exceptions and work with business leadership  to implement control improvement and remediation plansPrepare written reports including audit findings and management action plansUpdate the Audit Manager as to the status of individual audits and corrective action plansParticipate in ad hoc special projects that will help the Company achieve its strategic and financial objectivesProvide engagement supervision and guidance to less experienced staff members; Synonyms: ; Skills: Experience/Specifications :BA/BS in accounting preferred; Four-year college degree requiredMinimum of 2-4 years of public accounting or internal auditing experienceInsurance brokerage auditing a plusSuperior knowledge of auditing standards, accounting principles, and information technology controlsFamiliarity with audit software techniques desiredSelf-motivated, proactive, and detail-oriented with a strong sense of urgencyExcellent oral and written communication skillsCPA or CIA designation is preferred (other certifications such as CISA or CFE are a plus)A desire to travel domestically up to 35%',\n",
       " \"Job Title: Auditor; Description: SUMMARY:\\\\n The Auditor will be responsible for providing assistance in developing and executing financial and operational risk based audits, testing SOX-404 controls and working on special projects and investigations in accordance with the internal audit plan. The incumbent will be responsible for conducting all work in accordance with Internal Audit Standards. This responsibility includes assisting in audit planning, performing internal audit testing procedures, and assisting in the preparation of internal audit reports that reflect the results of the work performed. Additionally, the Auditor will follow-up on the status of outstanding internal audit issues. Work will include company-wide coverage, focusing on financial, operational and internal control processes.; Synonyms: ; Skills: ESSENTIAL FUNCTIONS:\\\\nSupport the SOX-404 process, including scoping, planning, walkthroughs, testing and status reporting.Evaluate the adequacy of internal control and processes through detailed testing.Compile audit findings and recommend value-added revisions to systems and procedures.Follow-up on open audit issuesAssist in confidential audits or fraud investigations.Participate on cross-functional efforts within the company to improve company operations. This includes, but is not limited to; project task forces, internal control committees, corporate-wide initiatives, process excellence teams, or other cross functional efforts).Support external auditors.\\\\n  OTHER:\\\\nOther duties as assigned.\\\\n  SUPERVISORY RESPONSIBILITIES:\\\\nNone.\\\\n\\\\n  QUALIFICATIONS:\\\\n  \\\\n• Excellent organizational skills.  \\\\n  \\\\n• Excellent written and verbal communication skills.  \\\\n  \\\\n• Strong analytical skills.  \\\\n  \\\\n• Understanding of internal control concepts and experience in applying them to plan, perform, manage and report on the evaluation of various business processes/areas/functions.  \\\\n  \\\\n• Ability to interact well with internal and external parties with audit related questions.  \\\\n  \\\\n• Strong computer skills including Microsoft Office suite and Oracle (preferred).  \\\\n  \\\\n• Detail orientated ability to multitask and meet deadlines.  \\\\n  \\\\n• Ability to complete projects and reports within communicated deadlines.  \\\\n  \\\\n• Superior analytical, critical thinking and problem-solving skills.\\\\n  \\\\n• Knowledge of GAAP, Committee of Sponsoring Organizations of the Treadway Commission (COSO), SOX, and Institute of Internal Auditors (IIA) Standards and Practice Advisories.\\\\n  \\\\n• The incumbent must be flexible as there may be workweeks that require more than 40 hours to ensure the positions expectations and responsibilities are met.  \\\\nEDUCATION AND EXPERIENCE:\\\\nOne (1) – two (2) years of experience in financial and operational auditing.Bachelor's degree in accounting, finance or business administration required.Accounting experience including book-keeping, preparation of financial statements, tax preparation will also be considered.\\\\n  ENVIRONMENT:\\\\n Approximately 75% performed in climate-controlled internal office environment working under normal office conditions. Approximately 25% travel required. While performing the duties of this job, the employee is regularly required to sit, stand, walk, use hands and finger to feel and handle, reach with arms and hands, talk, and hear. While performing the duties of this job, the employee frequently is required to stoop, kneel, and crouch; lift weight or exert a force up to a maximum of 25 pounds.  \\\\n\\\\n\\\\n  ADDITIONAL:\\\\n We are a dynamic organization in a rapidly changing industry. Accordingly, the responsibilities associated with this job will change from time to time in accordance with the Company’s business needs. More specifically, the incumbent may be required to perform additional and/or different responsibilities from those set forth above. The above declarations are not intended to be an all-inclusive list of the duties and responsibilities of the job described, nor are they intended to be such a listing of the skills and abilities required to do the job. Rather, they are intended only to describe the general nature of the job.  \\\\n\",\n",
       " 'Job Title: Auditor; Description: Responsibilities:  Our client, located in Dayton, Ohio, is seeking an Auditor who will be responsible for pulling invoices, validating payment, and using critical thinking skills. \\\\n \\\\nJob Ref#: 2312~EQG~1137949T1~99; Synonyms: ; Skills: Candidates should have prior experience with accounting responsibilities.',\n",
       " 'Job Title: Auditor; Description: Responsibilities:  Our local, well-known client is looking for a Senior Auditor. This person will assist and conduct various financial, operational and compliance audits. \\\\n \\\\nPosition Responsibilities: \\\\n  Evaluate internal controls and identify noncompliant issues and improvement opportunities  \\\\n Assist in the preparation and refinement of audit work programs  \\\\n Assist in drafting audit reports that summarize audit findings and recommendations  \\\\n Work with external professionals and specialists to complete audits and projects.  \\\\n  \\\\n \\\\nKforce (Nasdaq:KFRC) is a professional staffing and solutions firm providing flexible and permanent staffing solutions in the skill areas of technology, finance & accounting, clinical research and healthcare. Backed by approximately our associates and consultants on assignment, Kforce is committed to \"Great People = Great Results\" for our valued clients and candidates. Kforce operates with 65 offices located throughout the United States and two offices in the Philippines. \\\\n \\\\nJob Ref#: 2312~EQG~1135753P1~99; Synonyms: ; Skills: Required Skills, Knowledge, and Experience: \\\\n  A Bachelor\\'s degree in Accounting, Finance, related field, or equivalent experience  \\\\n At least 2 years of public accounting (Big 4 or large regional), internal audit, or related operational auditing experience  \\\\n Knowledge of Generally Accepted Accounting Principles is required  \\\\n A CPA is preferred  \\\\n',\n",
       " \"Job Title: Auditor*; Description: Job Posting:Mar 7, 2012 \\\\n  \\\\n Job:Audit \\\\n  \\\\n\\xa0Assists Internal Audit Management in the planning, execution, and reporting of audits included in the Annual Audit Plan as approved by Executive Management and the Audit Committee of the Board of Directors. Participates in Audit Plan activities to help Valero ensure optimization of profits, safeguarding of Corporate assets and ensuring the reliability and accuracy of financial data by making an examination and appraisal of financial and operating controls and providing recommendations for improvements concerning activities reviewed. Participates in risk-based, compliance and management request audits across all divisions (e.g., Refining, Corporate, Commercial, Retail, Logistics, Renewables). Participates in contract compliance audits of counterparties by applying knowledge of contract structures, commercial terms and conditions and billing practices that may result in monetary recoveries for Valero. Examines activities of all areas of the Corporation to determine the extent of compliance with policies, plans, and procedures and rules of regulatory agencies. Evaluates to the extent possible, through the audit process, managerial effectiveness in the attainment of objectives. Assists in audit project planning including initial client interviews, preparation of audit planning memorandums and risk matrices. Assists in the development of audit program procedures to address risks identified in the approved risk matrices. Executes audit program procedures, clearly and concisely documents testing performed and findings. Keeps audit in-charge informed of execution issues and findings. Work with management to develop practical recommendations for improvement action plans. Advises audit in-charge of the need for subject matter expertise to ensure the efficient execution of the audit, including the need for IT audit involvement. Assists in the preparation of written reports of audit results and the follow up of audit recommendations to ensure implementation. Assists Internal Audit management in administrative responsibilities, such as preparing the monthly activity report.; Synonyms: ; Skills: Bachelor's degree in Accounting or related field required. Minimum three years internal/external auditing or accounting experience required. Equivalent related experience in public accounting may be considered. Basic level of computer literacy, including a general understanding of the practice and principles of computer automation required. Familiarity with IT audit and control objectives and ability to analyze their application in the Corporation's automated systems preferred (SAP, BW, TRACK, TSW, COMPLY, etc). A high degree of initiative and creativity is required since each audit requires a different approach. Proficiency with electronic spreadsheets, database management systems, and data query software are required. Excellent oral and written communication skills are essential to interact with internal and external contacts. Position level and salary will be commensurate with qualifications and experience.\",\n",
       " 'Job Title: Accountant; Description: Staff Accountant\\\\n We have a great\\xa0contract-to-hire opportunity for a dynamic Accountant!  \\\\n We are working with\\xa0a mid-sized\\xa0Government Contracting firm\\xa0here in Northern Virginia that is looking\\xa0to add to their team.\\\\n \\xa0\\xa0  \\\\n The Accountant is\\xa0responsible for GL and heavy account reconciliations, preparing and posting journal entries, budget preparation and also cost accounting and analysis.\\\\n \\xa0  \\\\n Additional Duties Include:Development of\\xa0annual standard costs and overhead rates, and ensures the accuracy of all inventory costs\\\\n Preparing and reviewing income and expense analysis  \\\\n Reviewing and auditing the costing system, including costs for purchased material inventory\\\\n \\xa0  \\\\n  Qualifications  Bachelor Degree in Accounting or Finance 3-5 years direct experience in cost accounting Proficient with Microsoft Excel  Email your resume to  elaine.sturley@accountingprincipals.com  or  elena.cruz@accountingprincipals.com .  \\\\n \\xa0  \\\\n \\xa0  \\\\n \\xa0  \\\\n; Synonyms: ; Skills: More than 5 years',\n",
       " 'Job Title: Auditor; Description: Responsibilities:  The Auditor will be responsible for providing assistance in developing and executing financial and operational risk based audits, testing SOX-404 controls and working on special projects and investigations in accordance with the internal audit plan. The incumbent will be responsible for conducting all work in accordance with Internal Audit Standards. This responsibility includes assisting in audit planning, performing internal audit testing procedures, and assisting in the preparation of internal audit reports that reflect the results of the work performed. Additionally, the Auditor will follow-up on the status of outstanding internal audit issues. Work will include company-wide coverage, focusing on financial, operational and internal control processes. \\\\n \\\\nFunctions Include: \\\\n  Support the SOX-404 process including scoping, planning, walk-throughs, testing, and status reporting  \\\\n Evaluate the adequacy of internal control and processes through detailed testing  \\\\n Compile audit findings and recommend value-added revisions to systems and procedures  \\\\n Follow-up on open audit issues  \\\\n Assist in confidential audits or fraud investigations  \\\\n Participate on cross-functional efforts within the company to improve company operations to include, but not be limited to project task forces, internal control committees, corporate-wide initiatives, process excellence teams, or other cross functional efforts)  \\\\n Support external auditors  \\\\n  \\\\n \\\\nKforce (Nasdaq:KFRC) is a professional staffing and solutions firm providing flexible and permanent staffing solutions in the skill areas of technology, finance & accounting, clinical research and healthcare. Backed by approximately our associates and consultants on assignment, Kforce is committed to \"Great People = Great Results\" for our valued clients and candidates. Kforce operates with 65 offices located throughout the United States and two offices in the Philippines. \\\\n \\\\nJob Ref#: 2312~EQG~1153432P1~99; Synonyms: ; Skills: The successful applicant will possess the following requirements (items are required unless noted otherwise): \\\\n  1-2 years of experience in financial and operational auditing  \\\\n A Bachelor\\'s degree in Accounting, Finance, or Business Administration is required  \\\\n Accounting experience including bookkeeping, preparation of financial statements, and tax preparation will also be considered  \\\\n The position will require 25% travel  \\\\n']"
      ]
     },
     "execution_count": 130,
     "metadata": {},
     "output_type": "execute_result"
    }
   ],
   "source": [
    "context"
   ]
  },
  {
   "cell_type": "code",
   "execution_count": 136,
   "metadata": {},
   "outputs": [
    {
     "data": {
      "text/plain": [
       "\" Based on the job descriptions provided, here are some generally required skills for the auditor position that match the given job offer:\\n\\n- 2-5 years of auditing experience, including operational, financial, and systems auditing\\n- Knowledge of accounting principles and standards (GAAP, SOX, etc.)  \\n- Strong analytical and problem solving skills\\n- Ability to evaluate internal controls and processes\\n- Excellent written and verbal communication skills\\n- Detail-oriented with strong organizational skills  \\n- Proficient with Microsoft Office suite, including Excel\\n- Bachelor's degree in Accounting, Finance or related field\\n- CPA or other auditing certification preferred\\n- Ability to work independently and meet deadlines \\n- Experience working across different functions and management levels\\n- Some travel required (up to 25-30%)\""
      ]
     },
     "execution_count": 136,
     "metadata": {},
     "output_type": "execute_result"
    }
   ],
   "source": [
    "from langchain.chains.question_answering import load_qa_chain\n",
    "chain = load_qa_chain(llm, chain_type=\"stuff\")\n",
    "job_offer = 'We are seeking a dynamic individual to be a part of our Audit department. As our auditor, your responsi- bilities will include planning and performing a variety of internal audits and special projects throughout the company, which include a variety of Senior Manage- ment driven assignments. These audits will include detailed assessment of operational, financial and systems activities where a thorough understanding of control processes must be obtained from a vari- ety of people and resources.'\n",
    "qry = '''**Please list generally required skills by different job offers that closely matches the given Job Offer:**\n",
    "**Job Offer Details**\n",
    "{JobOffer}\n",
    "'''\n",
    "input_query = qry.format(JobOffer=job_offer)\n",
    "context = vectordb.similarity_search(job_offer, NUM_QUERY)\n",
    "input_data = {\"input_documents\": context, \"question\": input_query}\n",
    "output = chain(input_data)\n",
    "print(output['output_text'])"
   ]
  },
  {
   "cell_type": "code",
   "execution_count": 137,
   "metadata": {},
   "outputs": [
    {
     "name": "stdout",
     "output_type": "stream",
     "text": [
      " Based on the job descriptions provided, here are some generally required skills for the auditor position that match the given job offer:\n",
      "\n",
      "- 2-5 years of auditing experience, including operational, financial, and systems auditing\n",
      "- Knowledge of accounting principles and standards (GAAP, SOX, etc.)  \n",
      "- Strong analytical and problem solving skills\n",
      "- Ability to evaluate internal controls and processes\n",
      "- Excellent written and verbal communication skills\n",
      "- Detail-oriented with strong organizational skills  \n",
      "- Proficient with Microsoft Office suite, including Excel\n",
      "- Bachelor's degree in Accounting, Finance or related field\n",
      "- CPA or other auditing certification preferred\n",
      "- Ability to work independently and meet deadlines \n",
      "- Experience working across different functions and management levels\n",
      "- Some travel required (up to 25-30%)\n"
     ]
    }
   ],
   "source": [
    "print(output['output_text'])"
   ]
  },
  {
   "cell_type": "code",
   "execution_count": 13,
   "metadata": {},
   "outputs": [
    {
     "data": {
      "text/plain": [
       "\"I'm sorry, but you haven't provided any context or a specific job offer for me to use in order to answer your question. Can you please provide more information?\""
      ]
     },
     "execution_count": 13,
     "metadata": {},
     "output_type": "execute_result"
    }
   ],
   "source": [
    "from langchain.chains import RetrievalQA\n",
    "from langchain.chat_models import ChatOpenAI\n",
    "job_offer = 'We are seeking a dynamic individual to be a part of our Audit department. As our auditor, your responsi- bilities will include planning and performing a variety of internal audits and special projects throughout the company, which include a variety of Senior Manage- ment driven assignments. These audits will include detailed assessment of operational, financial and systems activities where a thorough understanding of control processes must be obtained from a vari- ety of people and resources.'\n",
    "prompt_ = \"\"\"    \n",
    "        Human: Use the following pieces of context to answer the question.\n",
    "\n",
    "        {context}\n",
    "                \n",
    "        Job Offer: {job_offer}\n",
    "        Question: what are the required skills for this Job Offer?\n",
    "        Helpful Answer:\n",
    "        \"\"\"\n",
    "context = [item.page_content for item in vectordb.similarity_search(query, NUM_QUERY)]\n",
    "qa_chain = RetrievalQA.from_chain_type(\n",
    "        llm=ChatOpenAI(),\n",
    "        retriever=vectordb.as_retriever(search_kwargs={'k': 7}),\n",
    "        return_source_documents=True\n",
    "        )\n",
    "out=qa_chain({'query': prompt_, 'job_offer':job_offer, 'context':context})\n",
    "out['result']"
   ]
  },
  {
   "cell_type": "code",
   "execution_count": 14,
   "metadata": {},
   "outputs": [
    {
     "data": {
      "text/plain": [
       "['Job Title: online marketer; Description: Online marketers use e-mail, internet and social media in order to market goods and brands.; Synonyms: assistant online marketer, digital marketer, e-commerce marketer, e-commerce marketing specialist, graduate online marketer, internet marketer, internet marketing specialist, online marketer, online marketing specialist, online sales channel marketer, senior online marketer, social media marketing coordinator, social media marketing specialist, trainee online marketer; Skills: apply customer engagement strategy, apply social media marketing, apply strategic thinking, conduct mobile marketing, create new concepts, execute conversion testing, execute email marketing, implement marketing strategies, implement sales strategies, inspect data, manage budgets, perform copywriting, perform image editing, perform market research, perform online data analysis, perform project management, perform video editing, plan digital marketing, use content management system software, use different communication channels',\n",
       " \"Job Title: online sales channel manager; Description: Online sales channel managers define the sales programme for e-commerce such as goods sold via e-mail, internet and social media. They also assist in planning the online sales strategy and identifying marketing opportunities. Online sales channel managers also analyse competitor sites, review the site performance and analytics.; Synonyms: assistant online sales channel manager, digital sales manager, e-commerce manager, graduate online sales channel manager, internet order manager, mail-order and internet manager, mail order manager, online sales channel manager, online sales channel supervisor, senior online sales channel manager, social media sales manager, trainee online sales channel manager; Skills: apply social media marketing, apply strategic thinking, conduct online competitive analysis, develop online sales business plan, identify customer's needs, monitor online competitors, negotiate buying conditions, negotiate terms with suppliers, perform market research, plan digital marketing, plan social media marketing campaigns, show diplomacy\",\n",
       " \"Job Title: brand manager; Description: Brand managers analyse and plan the way a brand is positioned on the market.; Synonyms: assistant brand manager, brand development manager, brand executive, brand manager, brand marketing manager, formula manager, graduate brand manager, market development executive, marketing development manager, marketing manager (brand development), senior brand manager, trainee brand manager; Skills: apply social media marketing, apply strategic thinking, carry out naming strategies, carry out sales analysis, comprehend financial business terminology, coordinate advertising campaigns, create annual marketing budget, create brand guidelines, define brand identity, design brand's online communication plan, execute marketing plan, have computer literacy, identify new business opportunities, implement marketing strategies, implement sales strategies, lead the brand strategic planning process, maintain financial records, manage brand assets, manage staff, perform brand analysis, perform customers’ needs analysis, perform market research, plan marketing campaigns, select optimal distribution channel, set brand positioning, stimulate creativity in the team\",\n",
       " \"Job Title: advertising manager; Description: Advertising managers perform the implementation of the advertising initiatives planned in the strategic marketing plan. They organise and prepare the resources needed to launch advertising campaigns and operations in advertising agencies. They prepare and align the communication channels, negotiate contracts, and ensure that operations adhere to budgets.; Synonyms: advertising account planner, advertising agency manager, advertising and promotions manager, advertising campaign manager, advertising coordinator, advertising director, advertising executive, advertising manager, campaigns coordinator, marketing communication manager, promotions coordinator, promotions manager; Skills: advise on public image, advise on public relations, analyse external factors of companies, conduct public presentations, coordinate advertising campaigns, coordinate marketing plan actions, develop communications strategies, develop creative ideas, develop public relations strategies, draft press releases, draw conclusions from market research results, establish relationship with the media, give interviews to media, identify customer's needs, integrate strategic foundation in daily performance, manage budgets, manage contracts, organise press conferences, perform project management, perform public relations, prepare presentation material, protect client interests, provide cost benefit analysis reports, use different communication channels\",\n",
       " 'Job Title: merchandiser; Description: Merchandisers are responsible for positioning goods following standards and procedures.; Synonyms: assistant merchandiser, assistant retail merchandiser, graduate merchandiser, graduate retail merchandiser, merchandise planner, merchandiser, merchandising associate, merchandising controller, merchandising manager, merchandising supervisor, retail merchandising associate, retail merchandising controller, retail merchandising manager, retail merchandising supervisor, senior merchandiser, senior retail merchandiser; Skills: assess visual impact of displays, carry out cross merchandising, carry out sales analysis, carry out stock rotation, check price accuracy on the shelf, execute visual presentation changes, have computer literacy, interpret floor plans, keep promotions records, keep records of merchandise delivery, maintain relationship with customers, maintain relationship with suppliers, maximise sales revenues, meet deadlines, monitor merchandise delivery, monitor stock movement, negotiate buying conditions, negotiate terms with suppliers, negotiate with suppliers for visual material, perform market research, plan retail space, show diplomacy, stock shelves, supervise merchandise displays, visit manufacturers',\n",
       " \"Job Title: advertising sales agent; Description: Advertising sales agents sell advertising space and media time to businesses and individuals. They make sales pitches to potential clients and follow up on after-sales.; Synonyms: ad sales agent, ad sales representative, advertising sales agent, advertising sales rep, media salesman, media salesperson, media saleswoman; Skills: advise on merchandise features, answer requests for quotation, communicate with customers, contact customers, deliver a sales pitch, demonstrate motivation for sales, ensure client orientation, ensure compliance with legal requirements, ensure compliance with purchasing and contracting regulations, guarantee customer satisfaction, implement customer follow-up, implement sales strategies, keep records of customer interaction, keep records on sales, produce sales reports, prospect new customers, record customers' personal data, respond to customers' inquiries, use customer relationship management software\",\n",
       " 'Job Title: advertising media planner; Description: Advertising media planners advise on the best communication media platforms to convey ideas. They analyse advertising plans in order to assess the aim and objective of the marketing strategy. They assess the potential and response rate that different communication channels might have on the transmission of a message related to a product, company, or brand.; Synonyms: advertising media planner, digital media planner, junior media planner, media coordinator, media manager, media planner, media planner/buyer, media planning executive, media planning expert, media planning manager, media planning strategist, senior media planner; Skills: cooperate with colleagues, cope with challenging demands, create media plan, create media schedule, meet deadlines, meet expectations of target audience, perform media outlets research, work with advertising professionals',\n",
       " \"Job Title: advertising media buyer; Description: Advertising media buyers purchase, on behalf of their clients, advertising space in the print, broadcast and online media. They analyse the effectiveness and appropriateness of the different channels depending on the good or service, providing advice for the decision-making. They try to negotiate the best price, without compromising the quality of the advertisements. They support the development and implementation of marketing and advertising plans through the most suited media outlet.; Synonyms: advertising media buyer, advertising media specialist, advertisment media buyer, international media buyer, media and advertising buyer, media buyer, media buyer & planner, media buyer and planner, media space buyer, press buyer, radio buyer, radio media buyer, senior media buyer, space buyer, TV buyer; Skills: buy advertising space, develop professional network, identify customer's needs, manage budgets, manage contracts, meet expectations of target audience, negotiate terms with suppliers, present arguments persuasively, study sales levels of products\",\n",
       " 'Job Title: digital artist; Description: Digital artists create art which applies digital technology as an essential part of the creative process. Digital art is usually created using computers or more specialised digital equipment. It may be enjoyed using the same instruments, shared over the internet, or presented using more traditional media.; Synonyms: 3D digital artist, 3D digital matte painter, computer-generated imagery artist, computer artist, digital artist, digital compositor, digital designer and animator, digital environment artist, digital games artist, digital matte artist, digital matte painter, digital sculptor, digital scupltress, special effects digital artist; Skills: contextualise artistic work, convert into animated object, create digital images, create pen-and-paper images, define artistic approach, develop animations, develop design concept, discuss artwork, gather reference materials for artwork, have computer literacy, monitor developments in technology used for design, use specialised design software',\n",
       " 'Job Title: chief marketing officer; Description: Chief marketing officers manage the high level marketing operations in a company. They coordinate all the efforts related to the marketing, promotional, and advertising activities across units or geographical areas. They make sure that different activities aimed at creating awareness of products are profitable for the company. They take decisions and prepare reports on marketing projects and the costs they entail.; Synonyms: chief commercial officer, chief commercial strategist, chief commercial strategy officer, chief marketing officer, director of marketing, head of marketing, senior marketing officer; Skills: align efforts towards business development, analyse consumer buying trends, analyse external factors of companies, analyse internal factors of companies, analyse work-related written reports, create annual marketing budget, define measurable marketing objectives, evaluate marketing content, identify potential markets for companies, integrate marketing strategies with the global strategy, interpret financial statements, liaise with managers, manage profitability, plan marketing campaigns, plan marketing strategy, study sales levels of products, track key performance indicators, use analytics for commercial purposes']"
      ]
     },
     "execution_count": 14,
     "metadata": {},
     "output_type": "execute_result"
    }
   ],
   "source": [
    "context"
   ]
  },
  {
   "cell_type": "code",
   "execution_count": null,
   "metadata": {},
   "outputs": [],
   "source": []
  },
  {
   "cell_type": "code",
   "execution_count": 32,
   "metadata": {},
   "outputs": [
    {
     "ename": "ValidationError",
     "evalue": "1 validation error for OpenAI\n__root__\n  Did not find openai_api_key, please add an environment variable `OPENAI_API_KEY` which contains it, or pass  `openai_api_key` as a named parameter. (type=value_error)",
     "output_type": "error",
     "traceback": [
      "\u001b[0;31m---------------------------------------------------------------------------\u001b[0m",
      "\u001b[0;31mValidationError\u001b[0m                           Traceback (most recent call last)",
      "\u001b[1;32m/Users/hamit.kavas/DevelopOS/NewOrganizedDirectoryMega/3-DoctorateUPF/3-DemoPaper/src/playbook.ipynb Cell 14\u001b[0m line \u001b[0;36m2\n\u001b[1;32m     <a href='vscode-notebook-cell:/Users/hamit.kavas/DevelopOS/NewOrganizedDirectoryMega/3-DoctorateUPF/3-DemoPaper/src/playbook.ipynb#W4sZmlsZQ%3D%3D?line=16'>17</a>\u001b[0m \u001b[39mfrom\u001b[39;00m \u001b[39mlangchain\u001b[39;00m\u001b[39m.\u001b[39;00m\u001b[39mchains\u001b[39;00m \u001b[39mimport\u001b[39;00m RetrievalQA\n\u001b[1;32m     <a href='vscode-notebook-cell:/Users/hamit.kavas/DevelopOS/NewOrganizedDirectoryMega/3-DoctorateUPF/3-DemoPaper/src/playbook.ipynb#W4sZmlsZQ%3D%3D?line=17'>18</a>\u001b[0m \u001b[39mfrom\u001b[39;00m \u001b[39mlangchain\u001b[39;00m\u001b[39m.\u001b[39;00m\u001b[39mllms\u001b[39;00m \u001b[39mimport\u001b[39;00m OpenAI\n\u001b[1;32m     <a href='vscode-notebook-cell:/Users/hamit.kavas/DevelopOS/NewOrganizedDirectoryMega/3-DoctorateUPF/3-DemoPaper/src/playbook.ipynb#W4sZmlsZQ%3D%3D?line=19'>20</a>\u001b[0m qa_chain \u001b[39m=\u001b[39m RetrievalQA\u001b[39m.\u001b[39mfrom_chain_type(\n\u001b[0;32m---> <a href='vscode-notebook-cell:/Users/hamit.kavas/DevelopOS/NewOrganizedDirectoryMega/3-DoctorateUPF/3-DemoPaper/src/playbook.ipynb#W4sZmlsZQ%3D%3D?line=20'>21</a>\u001b[0m     llm\u001b[39m=\u001b[39mOpenAI(),\n\u001b[1;32m     <a href='vscode-notebook-cell:/Users/hamit.kavas/DevelopOS/NewOrganizedDirectoryMega/3-DoctorateUPF/3-DemoPaper/src/playbook.ipynb#W4sZmlsZQ%3D%3D?line=21'>22</a>\u001b[0m     retriever\u001b[39m=\u001b[39mvectordb\u001b[39m.\u001b[39mas_retriever(search_kwargs\u001b[39m=\u001b[39m{\u001b[39m'\u001b[39m\u001b[39mk\u001b[39m\u001b[39m'\u001b[39m: \u001b[39m7\u001b[39m}),\n\u001b[1;32m     <a href='vscode-notebook-cell:/Users/hamit.kavas/DevelopOS/NewOrganizedDirectoryMega/3-DoctorateUPF/3-DemoPaper/src/playbook.ipynb#W4sZmlsZQ%3D%3D?line=22'>23</a>\u001b[0m     return_source_documents\u001b[39m=\u001b[39m\u001b[39mTrue\u001b[39;00m\n\u001b[1;32m     <a href='vscode-notebook-cell:/Users/hamit.kavas/DevelopOS/NewOrganizedDirectoryMega/3-DoctorateUPF/3-DemoPaper/src/playbook.ipynb#W4sZmlsZQ%3D%3D?line=23'>24</a>\u001b[0m )\n\u001b[1;32m     <a href='vscode-notebook-cell:/Users/hamit.kavas/DevelopOS/NewOrganizedDirectoryMega/3-DoctorateUPF/3-DemoPaper/src/playbook.ipynb#W4sZmlsZQ%3D%3D?line=25'>26</a>\u001b[0m \u001b[39m# we can now execute queries against our Q&A chain\u001b[39;00m\n\u001b[1;32m     <a href='vscode-notebook-cell:/Users/hamit.kavas/DevelopOS/NewOrganizedDirectoryMega/3-DoctorateUPF/3-DemoPaper/src/playbook.ipynb#W4sZmlsZQ%3D%3D?line=26'>27</a>\u001b[0m \u001b[39m# result = qa_chain({'query': 'Who is the CV about?'})\u001b[39;00m\n\u001b[1;32m     <a href='vscode-notebook-cell:/Users/hamit.kavas/DevelopOS/NewOrganizedDirectoryMega/3-DoctorateUPF/3-DemoPaper/src/playbook.ipynb#W4sZmlsZQ%3D%3D?line=27'>28</a>\u001b[0m result \u001b[39m=\u001b[39m qa_chain({\u001b[39m'\u001b[39m\u001b[39mquery\u001b[39m\u001b[39m'\u001b[39m: \u001b[39m'\u001b[39m\u001b[39mWhat are the best fit job title for this CV based on ESCO taxonomy?\u001b[39m\u001b[39m'\u001b[39m, \u001b[39m'\u001b[39m\u001b[39mcv\u001b[39m\u001b[39m'\u001b[39m:cv})\n",
      "File \u001b[0;32m~/Library/Caches/pypoetry/virtualenvs/ml-cross-bedrock-user-guide-aldTT5cv-py3.11/lib/python3.11/site-packages/langchain/load/serializable.py:97\u001b[0m, in \u001b[0;36mSerializable.__init__\u001b[0;34m(self, **kwargs)\u001b[0m\n\u001b[1;32m     96\u001b[0m \u001b[39mdef\u001b[39;00m \u001b[39m__init__\u001b[39m(\u001b[39mself\u001b[39m, \u001b[39m*\u001b[39m\u001b[39m*\u001b[39mkwargs: Any) \u001b[39m-\u001b[39m\u001b[39m>\u001b[39m \u001b[39mNone\u001b[39;00m:\n\u001b[0;32m---> 97\u001b[0m     \u001b[39msuper\u001b[39;49m()\u001b[39m.\u001b[39;49m\u001b[39m__init__\u001b[39;49m(\u001b[39m*\u001b[39;49m\u001b[39m*\u001b[39;49mkwargs)\n\u001b[1;32m     98\u001b[0m     \u001b[39mself\u001b[39m\u001b[39m.\u001b[39m_lc_kwargs \u001b[39m=\u001b[39m kwargs\n",
      "File \u001b[0;32m~/Library/Caches/pypoetry/virtualenvs/ml-cross-bedrock-user-guide-aldTT5cv-py3.11/lib/python3.11/site-packages/pydantic/v1/main.py:341\u001b[0m, in \u001b[0;36mBaseModel.__init__\u001b[0;34m(__pydantic_self__, **data)\u001b[0m\n\u001b[1;32m    339\u001b[0m values, fields_set, validation_error \u001b[39m=\u001b[39m validate_model(__pydantic_self__\u001b[39m.\u001b[39m\u001b[39m__class__\u001b[39m, data)\n\u001b[1;32m    340\u001b[0m \u001b[39mif\u001b[39;00m validation_error:\n\u001b[0;32m--> 341\u001b[0m     \u001b[39mraise\u001b[39;00m validation_error\n\u001b[1;32m    342\u001b[0m \u001b[39mtry\u001b[39;00m:\n\u001b[1;32m    343\u001b[0m     object_setattr(__pydantic_self__, \u001b[39m'\u001b[39m\u001b[39m__dict__\u001b[39m\u001b[39m'\u001b[39m, values)\n",
      "\u001b[0;31mValidationError\u001b[0m: 1 validation error for OpenAI\n__root__\n  Did not find openai_api_key, please add an environment variable `OPENAI_API_KEY` which contains it, or pass  `openai_api_key` as a named parameter. (type=value_error)"
     ]
    }
   ],
   "source": [
    "from langchain.llms import OpenAI\n",
    "from langchain.chains.question_answering import load_qa_chain\n",
    "\n",
    "# we are specifying that OpenAI is the LLM that we want to use in our chain\n",
    "query = \"\"\"    \n",
    "        Use the following pieces of context to answer the question regarding the given CV.\n",
    "\n",
    "        CV: {cv} // i.e the CV we want to extract information from\n",
    "\n",
    "        {context} // i.e the chunks of ESCO text retrieved deemed to be moset semantically\n",
    "                // relevant to our question\n",
    "\n",
    "        Question: {query} // i.e our actualy query\n",
    "        Helpful Answer:\n",
    "        \"\"\"\n",
    "\n",
    "from langchain.chains import RetrievalQA\n",
    "from langchain.llms import OpenAI\n",
    "\n",
    "qa_chain = RetrievalQA.from_chain_type(\n",
    "    llm=OpenAI(),\n",
    "    retriever=vectordb.as_retriever(search_kwargs={'k': 7}),\n",
    "    return_source_documents=True\n",
    ")\n",
    "\n",
    "# we can now execute queries against our Q&A chain\n",
    "# result = qa_chain({'query': 'Who is the CV about?'})\n",
    "result = qa_chain({'query': 'What are the best fit job title for this CV based on ESCO taxonomy?', 'cv':cv})\n",
    "\n",
    "print(result['result'])"
   ]
  },
  {
   "cell_type": "code",
   "execution_count": 41,
   "metadata": {},
   "outputs": [],
   "source": [
    "cv = {\n",
    "\"job title\":\"sport facility manager\",\n",
    "\"company\":\"Fragadis\",\n",
    "\"start date\":\"07/18\",\n",
    "\"end date\":\"09/19\",\n",
    "\"location\":\"Vic\",\n",
    "\"company details\":\"- Amplia experiencia en ayudar a los clientes. Buen manejo de la caja registradora y del cobro en efectivo y con tarjeta de crédito.\",\n",
    "\"relevant skills\":\"Ayudar a los clientes, manejo de caja registradora, cobro en efectivo y con tarjeta de crédito\"\n",
    "}"
   ]
  },
  {
   "cell_type": "code",
   "execution_count": null,
   "metadata": {},
   "outputs": [],
   "source": []
  },
  {
   "cell_type": "code",
   "execution_count": 47,
   "metadata": {},
   "outputs": [
    {
     "name": "stderr",
     "output_type": "stream",
     "text": [
      "/Users/hamit.kavas/Library/Caches/pypoetry/virtualenvs/ml-cross-bedrock-user-guide-aldTT5cv-py3.11/lib/python3.11/site-packages/langchain/llms/openai.py:216: UserWarning: You are trying to use a chat model. This way of initializing it is no longer supported. Instead, please use: `from langchain.chat_models import ChatOpenAI`\n",
      "  warnings.warn(\n",
      "/Users/hamit.kavas/Library/Caches/pypoetry/virtualenvs/ml-cross-bedrock-user-guide-aldTT5cv-py3.11/lib/python3.11/site-packages/langchain/llms/openai.py:811: UserWarning: You are trying to use a chat model. This way of initializing it is no longer supported. Instead, please use: `from langchain.chat_models import ChatOpenAI`\n",
      "  warnings.warn(\n",
      "/Users/hamit.kavas/Library/Caches/pypoetry/virtualenvs/ml-cross-bedrock-user-guide-aldTT5cv-py3.11/lib/python3.11/site-packages/langchain/chains/conversational_retrieval/base.py:397: UserWarning: `ChatVectorDBChain` is deprecated - please use `from langchain.chains import ConversationalRetrievalChain`\n",
      "  warnings.warn(\n",
      "Number of requested results 4 is greater than number of elements in index 1, updating n_results = 1\n"
     ]
    },
    {
     "name": "stdout",
     "output_type": "stream",
     "text": [
      "Answer:\n",
      "Yes, Lauren Chen has compatible skills for a business in digital marketing. She has 4+ years of experience in online marketing, branding, and business strategy, as well as experience in managing digital sales and streaming accounts, developing strategic partnerships, and executing advertising campaigns. Additionally, she has skills in digital data analytics, Adobe Photoshop, Adobe Illustrator, Adobe InDesign, AutoCAD, and Microsoft Office.\n"
     ]
    }
   ],
   "source": [
    "from langchain.chains import ChatVectorDBChain\n",
    "pdf_qa = ChatVectorDBChain.from_llm(OpenAI(temperature=0.9, model_name=\"gpt-3.5-turbo\"),\n",
    "                                    vectordb, return_source_documents=True)\n",
    "query = 'I have a business in digital marketing. Does she have compatible skills?'\n",
    "result = pdf_qa({\"question\": query, \"chat_history\": \"\"})\n",
    "print(\"Answer:\")\n",
    "print(result[\"answer\"])"
   ]
  },
  {
   "cell_type": "code",
   "execution_count": 37,
   "metadata": {},
   "outputs": [],
   "source": [
    "from langchain.memory import ConversationBufferMemory\n",
    "memory = ConversationBufferMemory(memory_key=\"chat_history\", return_messages=True)\n",
    "qa = ConversationalRetrievalChain.from_llm(OpenAI(temperature=0), vectordb.as_retriever(search_kwargs={\"k\": 8}), memory=memory)"
   ]
  },
  {
   "cell_type": "code",
   "execution_count": 49,
   "metadata": {},
   "outputs": [
    {
     "name": "stderr",
     "output_type": "stream",
     "text": [
      "Number of requested results 8 is greater than number of elements in index 2, updating n_results = 2\n"
     ]
    },
    {
     "data": {
      "text/plain": [
       "{'question': 'but my bussiness is more about sofware development. Can she still be a good candidate?',\n",
       " 'chat_history': [HumanMessage(content='what was she working for in 2018? Can you give me a description of her role?'),\n",
       "  AIMessage(content=' Lauren Chen was working as a Digital Marketing Associate for Momo Software in 2018. In this role, she worked with management to develop and apply digital marketing plans with a focus on driving acquisition and conversion. She also devised and implemented robust digital acquisition plans, ensuring precision in financial reporting, budgets, and forecasts.'),\n",
       "  HumanMessage(content='what are her skills?'),\n",
       "  AIMessage(content=' Lauren Chen has skills in digital data analytics, digital marketing, Adobe Photoshop, Adobe Illustrator, Adobe InDesign, AutoCAD, Rhinoceros, Microsoft Office, and Semrush, Ahrefs, and Page Optimizer Pro.'),\n",
       "  HumanMessage(content='what is her phone number?'),\n",
       "  AIMessage(content=' (212) 256-1414'),\n",
       "  HumanMessage(content='what is her phone number?'),\n",
       "  AIMessage(content=' (212) 256-1414'),\n",
       "  HumanMessage(content='I have a business in digital marketing. Does she have compatible skills?'),\n",
       "  AIMessage(content=' Yes, Lauren Chen has skills in digital data analytics, digital marketing, Adobe Photoshop, Adobe Illustrator, Adobe InDesign, AutoCAD, Rhinoceros, Microsoft Office, and Semrush, Ahrefs, and Page Optimizer Pro that are compatible with a business in digital marketing.'),\n",
       "  HumanMessage(content='but my bussiness is more about sofware development. Can she still be a good candidate?'),\n",
       "  AIMessage(content=' No, Lauren Chen does not have any skills in software development listed in her profile.')],\n",
       " 'answer': ' No, Lauren Chen does not have any skills in software development listed in her profile.'}"
      ]
     },
     "execution_count": 49,
     "metadata": {},
     "output_type": "execute_result"
    }
   ],
   "source": [
    "# result = qa({\"question\": \"what was she working for in 2018? Can you give me a description of her role?\"})\n",
    "# result = qa({\"question\": \"what are her skills?\"})\n",
    "result = qa({\"question\": \"but my bussiness is more about sofware development. Can she still be a good candidate?\"})\n",
    "result"
   ]
  },
  {
   "cell_type": "code",
   "execution_count": null,
   "metadata": {},
   "outputs": [],
   "source": []
  },
  {
   "cell_type": "code",
   "execution_count": 61,
   "metadata": {},
   "outputs": [
    {
     "name": "stdout",
     "output_type": "stream",
     "text": [
      "{'id': 'chatcmpl-8IFhhEvlexGdzdQsPyRMudMBkSNSS', 'object': 'chat.completion', 'created': 1699360961, 'model': 'gpt-4-1106-vision-preview', 'usage': {'prompt_tokens': 778, 'completion_tokens': 283, 'total_tokens': 1061}, 'choices': [{'message': {'role': 'assistant', 'content': \"The image is a resume or curriculum vitae (CV). It belongs to a person named Lauren Chen, who is advertising herself as a Digital Marketing Specialist. The resume is structured with sections for Career Objective, Professional Experience, Contact, Education, and Relevant Skills.\\n\\nIn the Career Objective, Lauren discusses her 4+ years of experience in online marketing, branding, and business strategy, mainly in music, media, and entertainment industries. She highlights her skills in driving revenue and brand growth through digital strategies.\\n\\nProfessional Experience lists her roles, including her current position at Triangle Music Group in New York as a Digital Marketing Specialist since September 2019, her past role at Momo Software as a Digital Marketing Associate, and an internship at Kingston Digital.\\n\\nHer Contact information includes a phone number, an email address, and a LinkedIn profile link.\\n\\nLauren's Education credentials show that she graduated from New York University in May 2017 with a Bachelor of Arts in Communications, achieving cum laude honors with a GPA of 3.6/4.0.\\n\\nThe Relevant Skills section lists her proficiency in Digital Data Analytics, Digital Marketing, software like Adobe Photoshop, Illustrator, InDesign, AutoCAD, Rhinoceros, Microsoft Office, and the communication platform Slack.\\n\\nNote: Given that this is a resume and contains personal contact information, please treat it cautiously and ethically, respecting privacy and the potential sensitivity of such documents.\"}, 'finish_details': {'type': 'stop', 'stop': '<|fim_suffix|>'}, 'index': 0}]}\n"
     ]
    }
   ],
   "source": [
    "import base64\n",
    "import requests\n",
    "\n",
    "# OpenAI API Key\n",
    "api_key = OPENAI_API_KEY\n",
    "\n",
    "# Function to encode the image\n",
    "def encode_image(image_path):\n",
    "    with open(image_path, \"rb\") as image_file:\n",
    "        return base64.b64encode(image_file.read()).decode('utf-8')\n",
    "\n",
    "# Path to your image\n",
    "image_path = \"../data/example.jpg\"\n",
    "\n",
    "# Getting the base64 string\n",
    "base64_image = encode_image(image_path)\n",
    "\n",
    "headers = {\n",
    "    \"Content-Type\": \"application/json\",\n",
    "    \"Authorization\": f\"Bearer {api_key}\"\n",
    "}\n",
    "\n",
    "payload = {\n",
    "    \"model\": \"gpt-4-vision-preview\",\n",
    "    \"messages\": [\n",
    "      {\n",
    "        \"role\": \"user\",\n",
    "        \"content\": [\n",
    "          {\n",
    "            \"type\": \"text\",\n",
    "            \"text\": \"What’s in this image?\"\n",
    "          },\n",
    "          {\n",
    "            \"type\": \"image_url\",\n",
    "            \"image_url\": {\n",
    "              \"url\": f\"data:image/jpeg;base64,{base64_image}\"\n",
    "            }\n",
    "          }\n",
    "        ]\n",
    "      }\n",
    "    ],\n",
    "    \"max_tokens\": 300\n",
    "}\n",
    "\n",
    "response = requests.post(\"https://api.openai.com/v1/chat/completions\", headers=headers, json=payload)\n",
    "\n",
    "print(response.json())"
   ]
  },
  {
   "cell_type": "code",
   "execution_count": 66,
   "metadata": {},
   "outputs": [
    {
     "data": {
      "text/plain": [
       "\"The image is a resume or curriculum vitae (CV). It belongs to a person named Lauren Chen, who is advertising herself as a Digital Marketing Specialist. The resume is structured with sections for Career Objective, Professional Experience, Contact, Education, and Relevant Skills.\\n\\nIn the Career Objective, Lauren discusses her 4+ years of experience in online marketing, branding, and business strategy, mainly in music, media, and entertainment industries. She highlights her skills in driving revenue and brand growth through digital strategies.\\n\\nProfessional Experience lists her roles, including her current position at Triangle Music Group in New York as a Digital Marketing Specialist since September 2019, her past role at Momo Software as a Digital Marketing Associate, and an internship at Kingston Digital.\\n\\nHer Contact information includes a phone number, an email address, and a LinkedIn profile link.\\n\\nLauren's Education credentials show that she graduated from New York University in May 2017 with a Bachelor of Arts in Communications, achieving cum laude honors with a GPA of 3.6/4.0.\\n\\nThe Relevant Skills section lists her proficiency in Digital Data Analytics, Digital Marketing, software like Adobe Photoshop, Illustrator, InDesign, AutoCAD, Rhinoceros, Microsoft Office, and the communication platform Slack.\\n\\nNote: Given that this is a resume and contains personal contact information, please treat it cautiously and ethically, respecting privacy and the potential sensitivity of such documents.\""
      ]
     },
     "execution_count": 66,
     "metadata": {},
     "output_type": "execute_result"
    }
   ],
   "source": [
    "response.json()['choices'][0]['message']['content']"
   ]
  },
  {
   "cell_type": "markdown",
   "metadata": {},
   "source": [
    "# XAVI"
   ]
  },
  {
   "cell_type": "code",
   "execution_count": 247,
   "metadata": {},
   "outputs": [],
   "source": [
    "import yaml\n",
    "\n",
    "# The prompt template as a Python dictionary\n",
    "prompt_template_dict = {\n",
    "    \"cv-parsing-prompt\": \"\"\"\n",
    "        You are an expert in human resources and your job is to extract relevant information from curriculums.\n",
    "        For each experience in the curriculum, you should return a json containing the following information:\n",
    "        - Experiences: List of experiences containing relevant fields.\n",
    "            - job_title: Associated job title\n",
    "            - description: Description of the role\n",
    "            - skills: List of skills mentioned\n",
    "        - Languages: List of languages known by the candidate.\n",
    "        - Highlights: Brief summary of the candidate's profile.\n",
    "\n",
    "        Here is the curriculum:\n",
    "        ```\n",
    "        {cv}\n",
    "        ```\n",
    "        The response should be only a json.\n",
    "    \"\"\",\n",
    "    \"job-offer-processing-prompt\": \"\"\"\n",
    "        Please use a retriever to find job offers similar to the following: \"Job Offer: {joboffer}\"\n",
    "\n",
    "        In the results, I would like you to:\n",
    "        1. Highlight the key responsibilities and qualifications of the given job offer and spesify. \n",
    "        2. Identify and summarize the skills and qualifications that are commonly sought in similar job offers.\n",
    "\n",
    "        1. Job Offer Summary:\n",
    "        - Title: \n",
    "        - Department: \n",
    "        - Responsibilities:\n",
    "\n",
    "        2. Commonly Sought Skills and Qualifications:\n",
    "        - Educational Background: \n",
    "        - Experience: \n",
    "        - Skills: \n",
    "        - Technical Proficiencies: \n",
    "        - Regulatory Knowledge: \n",
    "        - Certifications: \n",
    "\n",
    "        Note: The specific requirements and preferences for qualifications may vary between job offers.\n",
    "\n",
    "        Please return the information in the JSON format.\n",
    "        \"\"\",\n",
    "    \"full-report-template\": \"\"\"\n",
    "        I have a curriculum vitae (CV) and a job offer. I would like you to compare the two and provide insights on how well the CV matches the job offer's requirements. Please use a retriever to consult the ESCO (European Skills, Competences, Qualifications and Occupations) Taxonomy to extract relevant job profile information. This will inform a more accurate comparison between the CV and the job offer.\n",
    "        Be concise and objective.\n",
    "        Curriculum Vitae:\n",
    "        ```\n",
    "        {cv}\n",
    "        ```\n",
    "\n",
    "        Job Offer:\n",
    "        ```\n",
    "        {job_offer}\n",
    "        ```\n",
    "        Instructions for the OpenAI model:\n",
    "            1. Use the ESCO Taxonomy to find job profiles that correspond with the experiences and qualifications listed in the CV.\n",
    "            2. Critically evaluate the relevance of each experience and qualification in the CV against the specific requirements of the job offer.\n",
    "            3. Focus on the precise nature of the job offer, considering the essential qualifications, detailed responsibilities, and the level of expertise required.\n",
    "            4. Provide a realistic analysis that identifies:\n",
    "            - Direct matches and transferable skills between the CV and the job offer.\n",
    "            - Any qualifications or experiences in the CV that are exactly what the job offer requires.\n",
    "            - Areas where the CV falls short of the job offer's requirements, including lack of specific experiences, necessary qualifications, or required certifications.\n",
    "            5. Avoid using expressions that directly affect the decision, are subjective and dominant. Be concrete and clear, explain your thoughts in a transparent way.\n",
    "\n",
    "        Return the analysis in the following JSON structure:\n",
    "        {{\n",
    "            \"ESCO Analysis\": {{\n",
    "                \"Educational Qualifications Comparison\": \"\",\n",
    "                \"Skills and Proficiencies Match\": \"\",\n",
    "                \"Certifications and Regulatory Knowledge\": \"\",\n",
    "                \"Job Profile Match\": \"\",\n",
    "                \"Overall Summary\": {{\n",
    "                    \"Strong Matches\": \"\",\n",
    "                    \"Potential Gaps\": \"\"\n",
    "                }}\n",
    "            }}\n",
    "        }}\n",
    "\n",
    "        Note: The insights should be based on the retrieved information from the ESCO Taxonomy to ensure an informed and accurate analysis.\n",
    "        \"\"\"\n",
    "}\n",
    "yaml_str = yaml.dump(prompt_template_dict)\n",
    "\n",
    "with open('prompt_template.yaml', 'w') as file:\n",
    "    yaml.dump(prompt_template_dict, file)\n",
    "\n",
    "\n",
    "# with open('prompt_template.yaml', 'r') as file:\n",
    "#     loaded_template = yaml.safe_load(file)\n",
    "# prompt_template = loaded_template['cv-parsing-prompt']\n",
    "# prompt_template"
   ]
  },
  {
   "cell_type": "code",
   "execution_count": null,
   "metadata": {},
   "outputs": [],
   "source": [
    "import json\n",
    "with open('prompt_template.json', 'w') as file:\n",
    "    json.dump(prompt_template_dict, file)"
   ]
  },
  {
   "cell_type": "markdown",
   "metadata": {},
   "source": [
    "## Parse CV"
   ]
  },
  {
   "cell_type": "code",
   "execution_count": 70,
   "metadata": {},
   "outputs": [],
   "source": [
    "from langchain.document_loaders import PyPDFLoader\n",
    "tmp_file_path = \"../../data/Sefa-CV.pdf\"\n",
    "loader = PyPDFLoader(tmp_file_path, extract_images=True)\n",
    "cv = loader.load()"
   ]
  },
  {
   "cell_type": "code",
   "execution_count": 2,
   "metadata": {},
   "outputs": [],
   "source": [
    "# print(cv[0].page_content)"
   ]
  },
  {
   "cell_type": "code",
   "execution_count": 3,
   "metadata": {},
   "outputs": [],
   "source": [
    "import os\n",
    "from dotenv import load_dotenv\n",
    "load_dotenv()\n",
    "OPENAI_API_KEY = os.getenv(\"OPENAI_KEY\")\n",
    "os.environ[\"OPENAI_API_KEY\"] = OPENAI_API_KEY"
   ]
  },
  {
   "cell_type": "code",
   "execution_count": 218,
   "metadata": {},
   "outputs": [
    {
     "data": {
      "text/plain": [
       "{'Experiences': [{'job_title': 'Founder',\n",
       "   'description': 'I founded a company that sells pet products and pet foods online. Our products are sold at www.zoopet.com.tr and many online marketplaces. Operations of the company involved shipment of the products to every region of Turkey. In 2022, it was taken over by an investor. The company is still inactive service today.',\n",
       "   'skills': ['Ability to Work Under Pressure']},\n",
       "  {'job_title': 'Sales Manager',\n",
       "   'description': 'I began my career at Narven, a timeshare company in Bolu as a Sales Representative. My role involved direct customer interactions, customer relationship management activities, and conducting market analysis. After 18 successful months, I was promoted to Sales Manager, overseeing a sales team. I received multiple internal performance awards before departing to launch my own venture.',\n",
       "   'skills': ['Effective Time Management',\n",
       "    'Hard Working',\n",
       "    'Highly Organized',\n",
       "    'Fast Learner']},\n",
       "  {'job_title': 'Delivery Driver',\n",
       "   'description': 'For a duration of nine months, I was employed at a market distribution firm specializing in hot sales where I played a vital role in both the planning and execution of shipments. My responsibilities extended beyond the bustling cityscape of Barcelona to include suburban and outlying areas, providing a comprehensive distribution service. My day-to-day duties involved not only driving a delivery van but also meticulously planning shipment routes to maximize efficiency. I was accountable for ensuring timely and accurate deliveries to a variety of clients, ranging from restaurant stores to residential homes. With a mutual understanding of my desire to diversify my work experience, I amicably parted ways with my employer.',\n",
       "   'skills': ['Communication Skills',\n",
       "    'Ability to Work in a Team',\n",
       "    'Highly Motivated']}],\n",
       " 'Languages': [],\n",
       " 'Highlights': 'Ibrahim Sefa Isik is a motivated individual with experience in founding and managing an online pet shop, as well as sales management and delivery driver roles.'}"
      ]
     },
     "execution_count": 218,
     "metadata": {},
     "output_type": "execute_result"
    }
   ],
   "source": [
    "from langchain.prompts import ChatPromptTemplate\n",
    "from langchain.chat_models import ChatOpenAI\n",
    "from langchain.output_parsers.openai_functions import JsonKeyOutputFunctionsParser\n",
    "from langchain.output_parsers import PydanticOutputParser\n",
    "from pydantic import BaseModel, Field, conlist\n",
    "from typing import List\n",
    "\n",
    "prompt_template = \"\"\"\n",
    "You are an expert in human resources and your job is to extract relevant information from curriculums.\n",
    "For each experience in the curriculum, you should return a json containing the following information:\n",
    "- Experiences: List of experiences containing relevant fields.\n",
    "    - job_title: Associated job title\n",
    "    - description: Description of the role\n",
    "    - skills: List of skills mentioned\n",
    "- Languages: List of languages known by the candidate.\n",
    "- Highlights: Brief summary of the candidate's profile.\n",
    "\n",
    "Here is the curriculum:\n",
    "```\n",
    "{cv}\n",
    "```\n",
    "The response should be only a json.\n",
    "\"\"\".strip()\n",
    "#  The response should be only a jsonin the following format:\n",
    "# ```\n",
    "# {{\n",
    "#     'experiences': [\n",
    "#         *json containing experience details*\n",
    "#     ],\n",
    "#     'languages': [\n",
    "#         *list of languages*\n",
    "#     ]\n",
    "# }}\n",
    "# ```\n",
    "model = ChatOpenAI()\n",
    "\n",
    "class ApplicantExperiences(BaseModel):\n",
    "    experiences: str = Field(description=\"Extracted experiences from the CV\")\n",
    "    languages: str = Field(description=\"Languages known by the candidate in CV\")\n",
    "class ApplicantExperiencesArray(BaseModel):\n",
    "    CV: List[ApplicantExperiences] = Field(description=\"List of experiences and lanuages\")\n",
    "pydantic_parser = PydanticOutputParser(pydantic_object=ApplicantExperiencesArray)\n",
    "format_instructions = pydantic_parser.get_format_instructions()\n",
    "\n",
    "# prompt = ChatPromptTemplate.from_template(prompt_template, format_instructions=format_instructions)\n",
    "prompt = ChatPromptTemplate.from_template(prompt_template)\n",
    "# import re\n",
    "# def parse_json():\n",
    "#     json_match = re.search(r'```json\\n(.+)\\n```', answer.content, re.DOTALL)\n",
    "#     if json_match:\n",
    "#         json_string = json_match.group(1)\n",
    "#         # Parse the JSON string\n",
    "#         json_object = json.loads(json_string)\n",
    "#         return json_object\n",
    "#     else:\n",
    "#         error_message = \"No JSON object found in the string.\"\n",
    "#         return error_message\n",
    "# json_object = parse_json()\n",
    "\n",
    "\n",
    "chain = {\"context\": retriever, \"cv\": RunnablePassthrough()} | prompt | model \n",
    "answer = chain.invoke({\"cv\": cv})\n",
    "response = json.loads(answer.content)\n",
    "CV =response\n",
    "response"
   ]
  },
  {
   "cell_type": "code",
   "execution_count": null,
   "metadata": {},
   "outputs": [],
   "source": []
  },
  {
   "cell_type": "markdown",
   "metadata": {},
   "source": [
    "## Run RAG on ESCO "
   ]
  },
  {
   "cell_type": "code",
   "execution_count": 88,
   "metadata": {},
   "outputs": [],
   "source": [
    "from sentence_transformers import SentenceTransformer\n",
    "from chromadb import Embeddings\n",
    "from langchain.vectorstores import Chroma\n",
    "from langchain.prompts import ChatPromptTemplate\n",
    "from langchain.chat_models import ChatOpenAI\n",
    "from langchain.embeddings import OpenAIEmbeddings\n",
    "from langchain.schema.output_parser import StrOutputParser\n",
    "from langchain.schema.runnable import RunnablePassthrough, RunnableLambda\n",
    "MODEL_NAME = 'sentence-transformers/paraphrase-multilingual-mpnet-base-v2'\n",
    "class SentenceTransformerEmbeddings(Embeddings):\n",
    "    def __init__(self, model_name):\n",
    "        self._embedding_function = SentenceTransformer(model_name)\n",
    "    def embed_documents(self, texts):\n",
    "        embeddings = self._embedding_function.encode(texts, convert_to_numpy=True).tolist()\n",
    "        return [list(map(float, e)) for e in embeddings]\n",
    "    def embed_query(self, text):\n",
    "        embeddings = self._embedding_function.encode([text], convert_to_numpy=True).tolist()\n",
    "        return [list(map(float, e)) for e in embeddings][0]\n",
    "\n",
    "sentence_transformer_ef = SentenceTransformerEmbeddings(model_name=MODEL_NAME)"
   ]
  },
  {
   "cell_type": "code",
   "execution_count": null,
   "metadata": {},
   "outputs": [],
   "source": [
    "# template = \"\"\"**You are an expert in human resources and your job is extracting relevant information from Job Offer and comparing this with other Job Offers in database.**\n",
    "#         Compare :\n",
    "#         - Required Experiences: List of required experiences required by given job offer.\n",
    "#             - job_title: Associated job title\n",
    "#             - description: Description of the role\n",
    "#             - skills: List of skills mentioned\n",
    "#         - Highlights - Brief Summary of the Job Offer\n",
    "        \n",
    "#         **Similar Job Offer Details**\n",
    "#         {context}\n",
    "#             - job_title: Associated job title\n",
    "#             - description: Description of the role\n",
    "#             - skills: List of skills mentioned\n",
    "\n",
    "#         Job Offer: {question}\n",
    "#         The response should be only a string with bullets.\n",
    "#         \"\"\""
   ]
  },
  {
   "cell_type": "code",
   "execution_count": 189,
   "metadata": {},
   "outputs": [],
   "source": [
    "vectorstore = Chroma(persist_directory=\"ESCO_mpnet_db\", embedding_function=sentence_transformer_ef)\n",
    "\n",
    "retriever = vectorstore.as_retriever()\n",
    "\n",
    "template = \"\"\"\n",
    "Please use a retriever to find job offers similar to the following: \"Job Offer: {question}\"\n",
    "\n",
    "In the results, I would like you to:\n",
    "1. Highlight the key responsibilities and qualifications of the given job offer and spesify. \n",
    "2. Identify and summarize the skills and qualifications that are commonly sought in similar job offers.\n",
    "\n",
    "1. Job Offer Summary:\n",
    "- Title: \n",
    "- Department: \n",
    "- Responsibilities:\n",
    "\n",
    "2. Commonly Sought Skills and Qualifications:\n",
    "- Educational Background: \n",
    "- Experience: \n",
    "- Skills: \n",
    "- Technical Proficiencies: \n",
    "- Regulatory Knowledge: \n",
    "- Certifications: \n",
    "\n",
    "Note: The specific requirements and preferences for qualifications may vary between job offers.\n",
    "\n",
    "Please return the information in the JSON format.\n",
    "\"\"\"\n",
    "prompt = ChatPromptTemplate.from_template(template)\n",
    "\n",
    "model = ChatOpenAI()"
   ]
  },
  {
   "cell_type": "code",
   "execution_count": 190,
   "metadata": {},
   "outputs": [],
   "source": [
    "chain = (\n",
    "    {\"context\": retriever, \"question\": RunnablePassthrough()}\n",
    "    | prompt\n",
    "    | model\n",
    "    | StrOutputParser()\n",
    ")"
   ]
  },
  {
   "cell_type": "code",
   "execution_count": 191,
   "metadata": {},
   "outputs": [
    {
     "name": "stdout",
     "output_type": "stream",
     "text": [
      "{\n",
      "  \"job_offer_summary\": {\n",
      "    \"title\": \"Auditor\",\n",
      "    \"department\": \"Audit\",\n",
      "    \"responsibilities\": \"Planning and performing a variety of internal audits and special projects throughout the company, including assessment of operational, financial, and systems activities.\"\n",
      "  },\n",
      "  \"commonly_sought_skills_and_qualifications\": {\n",
      "    \"educational_background\": \"Bachelor's degree in accounting, finance, or a related field. Professional certification such as Certified Internal Auditor (CIA) or Certified Public Accountant (CPA) is preferred.\",\n",
      "    \"experience\": \"Previous experience in auditing or a related field. Knowledge of internal control processes and audit methodologies.\",\n",
      "    \"skills\": \"Strong analytical and problem-solving skills. Excellent communication and interpersonal skills. Ability to work independently and in a team. Attention to detail and ability to meet deadlines.\",\n",
      "    \"technical_proficiencies\": \"Proficient in using audit software and tools. Knowledge of financial systems and data analysis.\",\n",
      "    \"regulatory_knowledge\": \"Understanding of relevant laws, regulations, and accounting standards.\",\n",
      "    \"certifications\": \"Certified Internal Auditor (CIA) or Certified Public Accountant (CPA) certification is preferred.\"\n",
      "  }\n",
      "}\n"
     ]
    }
   ],
   "source": [
    "import os\n",
    "os.environ[\"TOKENIZERS_PARALLELISM\"] = \"false\"\n",
    "job_offer = 'We are seeking a dynamic individual to be a part of our Audit department. As our auditor, your responsibilities will include planning and performing a variety of internal audits and special projects throughout the company, which include a variety of Senior Manage- ment driven assignments. These audits will include detailed assessment of operational, financial and systems activities where a thorough understanding of control processes must be obtained from a vari- ety of people and resources.'\n",
    "answer = chain.invoke(job_offer)\n",
    "response = json.loads(answer)\n",
    "print(response)"
   ]
  },
  {
   "cell_type": "code",
   "execution_count": null,
   "metadata": {},
   "outputs": [],
   "source": [
    "def analyze_job_offer():\n",
    "    # Code to analyze Job OFfer\n",
    "    if st.session_state.job_offer_file:\n",
    "        chain = load_qa_chain(llm, chain_type=\"stuff\")\n",
    "        job_offer = st.session_state['job_offer_file']\n",
    "        qry = '''**Please list generally required skills by different job offers that closely matches the given Job Offer:**\n",
    "        **Job Offer Details**\n",
    "        {JobOffer}\n",
    "        '''\n",
    "        vectordb = persist_vectorstore()\n",
    "        input_query = qry.format(JobOffer=job_offer)\n",
    "        context = vectordb.similarity_search(job_offer, NUM_QUERY)\n",
    "        input_data = {\"input_documents\": context, \"question\": input_query}\n",
    "        output = chain(input_data)\n",
    "        # print(\"Job Offer Analyzew\\n\", output['output_text'])\n",
    "        return output['output_text']"
   ]
  },
  {
   "cell_type": "markdown",
   "metadata": {},
   "source": [
    "# Final Report"
   ]
  },
  {
   "cell_type": "code",
   "execution_count": 210,
   "metadata": {},
   "outputs": [],
   "source": [
    "vectorstore = Chroma(persist_directory=\"ESCO_mpnet_db\", embedding_function=sentence_transformer_ef)\n",
    "retriever = vectorstore.as_retriever()"
   ]
  },
  {
   "cell_type": "code",
   "execution_count": 233,
   "metadata": {},
   "outputs": [],
   "source": [
    "template = \"\"\"\n",
    "I have a curriculum vitae (CV) and a job offer. I would like the OpenAI model to compare the two and provide insights on how well the CV matches the job offer's requirements. Please use a retriever to consult the ESCO (European Skills, Competences, Qualifications and Occupations) Taxonomy to extract relevant job profile information. This will inform a more accurate comparison between the CV and the job offer.\n",
    "\n",
    "Curriculum Vitae:\n",
    "```\n",
    "{cv}\n",
    "```\n",
    "\n",
    "Job Offer:\n",
    "```\n",
    "{job_offer}\n",
    "```\n",
    "Use the information from the ESCO Taxonomy to evaluate the following aspects:\n",
    "- The alignment of professional experience listed in the CV with the responsibilities and projects as per ESCO job profiles related to the job offer.\n",
    "- The educational qualifications in the CV compared to the educational requirements suggested by ESCO for similar jobs.\n",
    "- The skills and proficiencies mentioned in the CV in comparison with those detailed in the ESCO profile for the job offer.\n",
    "- Any certifications or regulatory knowledge stated in the CV that match the ESCO profile's preferences or requirements for the job offer.\n",
    "- A summary of areas where the CV strongly matches the ESCO profile for the job offer and areas where there may be gaps or need for further development.\n",
    "\n",
    "Please present the analysis in the following JSON structure:\n",
    "{{\n",
    "    \"Match Insights\": {{\n",
    "        \"Professional Experience Alignment\": \"\",\n",
    "        \"Educational Qualifications Comparison\": \"\",\n",
    "        \"Skills and Proficiencies Match\": \"\",\n",
    "        \"Certifications and Regulatory Knowledge\": \"\",\n",
    "        \"Overall Summary\": {{\n",
    "            \"Strong Matches\": \"\",\n",
    "            \"Potential Gaps\": \"\"\n",
    "        }}\n",
    "    }}\n",
    "}}\n",
    "\n",
    "Note: The insights should be based on the retrieved information from the ESCO Taxonomy to ensure an informed and accurate analysis.\n",
    "\"\"\"\n",
    "\n",
    "template = \"\"\"\n",
    "I have a curriculum vitae (CV) and a job offer. I would like the OpenAI model to compare the two and provide insights on how well the CV matches the job offer's requirements. Please use a retriever to consult the ESCO (European Skills, Competences, Qualifications and Occupations) Taxonomy to extract relevant job profile information. This will inform a more accurate comparison between the CV and the job offer.\n",
    "\n",
    "Curriculum Vitae:\n",
    "```\n",
    "{cv}\n",
    "```\n",
    "\n",
    "Job Offer:\n",
    "```\n",
    "{job_offer}\n",
    "```\n",
    "Instructions for the OpenAI model:\n",
    "1. Retrieve job titles and profiles from the ESCO Taxonomy that align with the professional experiences mentioned in the CV.\n",
    "2. Compare these ESCO job profiles with the responsibilities and requirements detailed in the job offer.\n",
    "3. Provide insights on:\n",
    "   - How the candidate's past job titles and experiences align with the job offer.\n",
    "   - The relevance of the candidate's educational background in relation to the job offer.\n",
    "   - The match between the candidate's skills and proficiencies with those required by the job offer.\n",
    "   - The presence of any certifications or specific knowledge in the CV that are also mentioned in the job offer.\n",
    "4. Identify any significant gaps or areas where the CV does not align with the job offer.\n",
    "\n",
    "Return the analysis in the following JSON structure:\n",
    "{{\n",
    "    \"ESCO Analysis\": {{\n",
    "        \"Job Profile Match\": \"\",\n",
    "        \"Educational Qualifications Comparison\": \"\",\n",
    "        \"Skills and Proficiencies Match\": \"\",\n",
    "        \"Certifications and Regulatory Knowledge\": \"\",\n",
    "        \"Overall Summary\": {{\n",
    "            \"Strong Matches\": \"\",\n",
    "            \"Potential Gaps\": \"\"\n",
    "        }}\n",
    "    }}\n",
    "}}\n",
    "\n",
    "Note: The insights should be based on the retrieved information from the ESCO Taxonomy to ensure an informed and accurate analysis.\n",
    "\"\"\"\n",
    "\n",
    "# Please return the information in the JSON format.\n",
    "# \"\"\"\n",
    "prompt = ChatPromptTemplate.from_template(template)\n",
    "\n",
    "chain = (\n",
    "    {\"context\": retriever, \"cv\": RunnablePassthrough(), \"job_offer\": RunnablePassthrough()}\n",
    "    | prompt \n",
    "    | model\n",
    ") \n",
    "answer = chain.invoke({\"cv\": CV, \"job_offer\": job_offer})\n",
    "response = json.loads(answer.content)"
   ]
  },
  {
   "cell_type": "code",
   "execution_count": 234,
   "metadata": {},
   "outputs": [
    {
     "name": "stdout",
     "output_type": "stream",
     "text": [
      "{\n",
      "    \"ESCO Analysis\": {\n",
      "        \"Job Profile Match\": \"The candidate's past job titles and experiences align well with the job offer. The candidate has experience as a founder, sales manager, and delivery driver, which demonstrates their ability to take on different roles and responsibilities. These experiences show their skills in managing a business, leading a team, and handling logistics and distribution.\",\n",
      "        \"Educational Qualifications Comparison\": \"The CV does not provide information about the candidate's educational background. Therefore, it is not possible to compare their qualifications with the job offer.\",\n",
      "        \"Skills and Proficiencies Match\": \"The candidate's skills and proficiencies align with some of the requirements mentioned in the job offer. Their skills in effective time management, hard work, highly organization, fast learning, communication, ability to work in a team, and motivation are relevant to the responsibilities of an auditor. These skills demonstrate the candidate's ability to handle multiple tasks, work collaboratively, and meet deadlines.\",\n",
      "        \"Certifications and Regulatory Knowledge\": \"The CV does not mention any certifications or specific knowledge that are also mentioned in the job offer. Therefore, it is not possible to determine if the candidate possesses any relevant certifications or regulatory knowledge.\",\n",
      "        \"Overall Summary\": {\n",
      "            \"Strong Matches\": \"The candidate's past job titles and experiences align well with the job offer. Their skills and proficiencies also match some of the requirements mentioned. However, there is a lack of information about their educational qualifications and any relevant certifications or regulatory knowledge. These gaps may affect their competitiveness compared to other candidates.\",\n",
      "            \"Potential Gaps\": \"The CV does not provide information about the candidate's educational qualifications and any relevant certifications or regulatory knowledge. These gaps may be a disadvantage when compared to other candidates who possess these qualifications.\"\n",
      "        }\n",
      "    }\n",
      "}\n"
     ]
    }
   ],
   "source": [
    "print(json.dumps(response, indent=4))"
   ]
  },
  {
   "cell_type": "code",
   "execution_count": 235,
   "metadata": {},
   "outputs": [
    {
     "name": "stdout",
     "output_type": "stream",
     "text": [
      "{\n",
      "    \"ESCO Analysis\": {\n",
      "        \"Job Profile Match\": \"The candidate's past job titles and experiences align well with the job offer. The candidate has experience as a founder, sales manager, and delivery driver, which demonstrates their ability to take on different roles and responsibilities. These experiences show their skills in managing a business, leading a team, and handling logistics and distribution.\",\n",
      "        \"Educational Qualifications Comparison\": \"The CV does not provide information about the candidate's educational background. Therefore, it is not possible to compare their qualifications with the job offer.\",\n",
      "        \"Skills and Proficiencies Match\": \"The candidate's skills and proficiencies align with some of the requirements mentioned in the job offer. Their skills in effective time management, hard work, highly organization, fast learning, communication, ability to work in a team, and motivation are relevant to the responsibilities of an auditor. These skills demonstrate the candidate's ability to handle multiple tasks, work collaboratively, and meet deadlines.\",\n",
      "        \"Certifications and Regulatory Knowledge\": \"The CV does not mention any certifications or specific knowledge that are also mentioned in the job offer. Therefore, it is not possible to determine if the candidate possesses any relevant certifications or regulatory knowledge.\",\n",
      "        \"Overall Summary\": {\n",
      "            \"Strong Matches\": \"The candidate's past job titles and experiences align well with the job offer. Their skills and proficiencies also match some of the requirements mentioned. However, there is a lack of information about their educational qualifications and any relevant certifications or regulatory knowledge. These gaps may affect their competitiveness compared to other candidates.\",\n",
      "            \"Potential Gaps\": \"The CV does not provide information about the candidate's educational qualifications and any relevant certifications or regulatory knowledge. These gaps may be a disadvantage when compared to other candidates who possess these qualifications.\"\n",
      "        }\n",
      "    }\n",
      "}\n"
     ]
    }
   ],
   "source": [
    "print(json.dumps(response, indent=4))"
   ]
  },
  {
   "cell_type": "code",
   "execution_count": 236,
   "metadata": {},
   "outputs": [
    {
     "data": {
      "text/plain": [
       "dict"
      ]
     },
     "execution_count": 236,
     "metadata": {},
     "output_type": "execute_result"
    }
   ],
   "source": [
    "type(CV)"
   ]
  },
  {
   "cell_type": "code",
   "execution_count": 244,
   "metadata": {},
   "outputs": [
    {
     "data": {
      "text/plain": [
       "{'job_title': 'Founder',\n",
       " 'description': 'I founded a company that sells pet products and pet foods online. Our products are sold at www.zoopet.com.tr and many online marketplaces. Operations of the company involved shipment of the products to every region of Turkey. In 2022, it was taken over by an investor. The company is still inactive service today.',\n",
       " 'skills': ['Ability to Work Under Pressure']}"
      ]
     },
     "execution_count": 244,
     "metadata": {},
     "output_type": "execute_result"
    }
   ],
   "source": [
    "json.loads(json.dumps(CV['Experiences'][0]))"
   ]
  },
  {
   "cell_type": "code",
   "execution_count": null,
   "metadata": {},
   "outputs": [],
   "source": []
  },
  {
   "cell_type": "code",
   "execution_count": null,
   "metadata": {},
   "outputs": [],
   "source": []
  },
  {
   "cell_type": "code",
   "execution_count": null,
   "metadata": {},
   "outputs": [],
   "source": []
  }
 ],
 "metadata": {
  "kernelspec": {
   "display_name": "Bedrock(poetry)",
   "language": "python",
   "name": "bedrock_kernel"
  },
  "language_info": {
   "codemirror_mode": {
    "name": "ipython",
    "version": 3
   },
   "file_extension": ".py",
   "mimetype": "text/x-python",
   "name": "python",
   "nbconvert_exporter": "python",
   "pygments_lexer": "ipython3",
   "version": "3.11.5"
  }
 },
 "nbformat": 4,
 "nbformat_minor": 2
}
